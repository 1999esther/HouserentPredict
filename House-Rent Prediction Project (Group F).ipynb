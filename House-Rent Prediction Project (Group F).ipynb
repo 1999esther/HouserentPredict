{
 "cells": [
  {
   "cell_type": "code",
   "execution_count": 1,
   "id": "2191e39d",
   "metadata": {},
   "outputs": [
    {
     "data": {
      "text/plain": [
       "(4746, 12)"
      ]
     },
     "execution_count": 1,
     "metadata": {},
     "output_type": "execute_result"
    }
   ],
   "source": [
    "import pandas as pd\n",
    "import numpy as np\n",
    "from matplotlib import pyplot as plt\n",
    "import matplotlib \n",
    "df=pd.read_csv('House_Rent_Dataset_1.csv')\n",
    "#check number of records\n",
    "df.shape"
   ]
  },
  {
   "cell_type": "code",
   "execution_count": 2,
   "id": "2a066c4b",
   "metadata": {},
   "outputs": [
    {
     "data": {
      "text/plain": [
       "Index(['Posted On', 'BHK', 'Rent', 'Size', 'Floor', 'Area Type',\n",
       "       'Area Locality', 'City', 'Furnishing Status', 'Tenant Preferred',\n",
       "       'Bathroom', 'Point of Contact'],\n",
       "      dtype='object')"
      ]
     },
     "execution_count": 2,
     "metadata": {},
     "output_type": "execute_result"
    }
   ],
   "source": [
    "df.columns"
   ]
  },
  {
   "cell_type": "code",
   "execution_count": 3,
   "id": "0eacde38",
   "metadata": {},
   "outputs": [
    {
     "data": {
      "text/html": [
       "<div>\n",
       "<style scoped>\n",
       "    .dataframe tbody tr th:only-of-type {\n",
       "        vertical-align: middle;\n",
       "    }\n",
       "\n",
       "    .dataframe tbody tr th {\n",
       "        vertical-align: top;\n",
       "    }\n",
       "\n",
       "    .dataframe thead th {\n",
       "        text-align: right;\n",
       "    }\n",
       "</style>\n",
       "<table border=\"1\" class=\"dataframe\">\n",
       "  <thead>\n",
       "    <tr style=\"text-align: right;\">\n",
       "      <th></th>\n",
       "      <th>Posted On</th>\n",
       "      <th>BHK</th>\n",
       "      <th>Rent</th>\n",
       "      <th>Size</th>\n",
       "      <th>Floor</th>\n",
       "      <th>Area Type</th>\n",
       "      <th>Area Locality</th>\n",
       "      <th>City</th>\n",
       "      <th>Furnishing Status</th>\n",
       "      <th>Tenant Preferred</th>\n",
       "      <th>Bathroom</th>\n",
       "      <th>Point of Contact</th>\n",
       "    </tr>\n",
       "  </thead>\n",
       "  <tbody>\n",
       "    <tr>\n",
       "      <th>0</th>\n",
       "      <td>5/18/2022</td>\n",
       "      <td>2</td>\n",
       "      <td>10000.0</td>\n",
       "      <td>1100</td>\n",
       "      <td>Ground out of 2</td>\n",
       "      <td>Super Area</td>\n",
       "      <td>Kikoni</td>\n",
       "      <td>Kolkata</td>\n",
       "      <td>Unfurnished</td>\n",
       "      <td>Bachelors/Family</td>\n",
       "      <td>2</td>\n",
       "      <td>Contact Owner</td>\n",
       "    </tr>\n",
       "    <tr>\n",
       "      <th>1</th>\n",
       "      <td>5/13/2022</td>\n",
       "      <td>2</td>\n",
       "      <td>20000.0</td>\n",
       "      <td>800</td>\n",
       "      <td>1 out of 3</td>\n",
       "      <td>Super Area</td>\n",
       "      <td>Kikumikumi</td>\n",
       "      <td>Kolkata</td>\n",
       "      <td>Semi-Furnished</td>\n",
       "      <td>Bachelors/Family</td>\n",
       "      <td>1</td>\n",
       "      <td>Contact Owner</td>\n",
       "    </tr>\n",
       "  </tbody>\n",
       "</table>\n",
       "</div>"
      ],
      "text/plain": [
       "   Posted On  BHK     Rent  Size            Floor   Area Type Area Locality  \\\n",
       "0  5/18/2022    2  10000.0  1100  Ground out of 2  Super Area        Kikoni   \n",
       "1  5/13/2022    2  20000.0   800       1 out of 3  Super Area    Kikumikumi   \n",
       "\n",
       "      City Furnishing Status  Tenant Preferred  Bathroom Point of Contact  \n",
       "0  Kolkata       Unfurnished  Bachelors/Family         2    Contact Owner  \n",
       "1  Kolkata    Semi-Furnished  Bachelors/Family         1    Contact Owner  "
      ]
     },
     "execution_count": 3,
     "metadata": {},
     "output_type": "execute_result"
    }
   ],
   "source": [
    "#check data\n",
    "df.head(2)"
   ]
  },
  {
   "cell_type": "code",
   "execution_count": 4,
   "id": "646a68f1",
   "metadata": {},
   "outputs": [
    {
     "data": {
      "text/plain": [
       "array(['KikoniKolkata', 'KikumikumiKolkata', 'WandegyaKolkata',\n",
       "       'NakulubyaKolkata', 'KikoniMumbai', 'KikumikumiMumbai',\n",
       "       'WandegyaMumbai', 'NakulubyaMumbai', 'KikoniBangalore',\n",
       "       'KikumikumiBangalore', 'WandegyaBangalore', 'NakulubyaBangalore',\n",
       "       'WandegyaDelhi', 'NakulubyaDelhi', 'KikoniDelhi',\n",
       "       'KikumikumiDelhi', 'NakulubyaChennai', 'KikoniChennai',\n",
       "       'KikumikumiChennai', 'WandegyaChennai', 'WandegyaHyderabad',\n",
       "       'NakulubyaHyderabad', 'KikoniHyderabad', 'KikumikumiHyderabad'],\n",
       "      dtype=object)"
      ]
     },
     "execution_count": 4,
     "metadata": {},
     "output_type": "execute_result"
    }
   ],
   "source": [
    "df['location']=df['Area Locality']+df['City']\n",
    "df['location'].unique()"
   ]
  },
  {
   "cell_type": "code",
   "execution_count": 5,
   "id": "3d11ea20",
   "metadata": {},
   "outputs": [
    {
     "data": {
      "text/plain": [
       "24"
      ]
     },
     "execution_count": 5,
     "metadata": {},
     "output_type": "execute_result"
    }
   ],
   "source": [
    "df['location'].nunique()"
   ]
  },
  {
   "cell_type": "code",
   "execution_count": 6,
   "id": "d7d5820d",
   "metadata": {},
   "outputs": [],
   "source": [
    "#give ids to locations\n",
    "def giveids(x):\n",
    "    if x=='KikoniKolkata':\n",
    "        return 1\n",
    "    if x=='KikumikumiKolkata':\n",
    "        return 2\n",
    "    if x=='WandegyaKolkata':\n",
    "        return 3\n",
    "    if x=='NakulubyaKolkata':\n",
    "        return 4\n",
    "    if x=='KikoniMumbai':\n",
    "        return 5\n",
    "    if x=='KikumikumiMumbai':\n",
    "        return 6\n",
    "    if x=='WandegyaMumbai':\n",
    "        return 7\n",
    "    if x=='NakulubyaMumbai':\n",
    "        return 8\n",
    "    if x=='KikoniBangalore':\n",
    "        return 9\n",
    "    if x=='KikumikumiBangalore':\n",
    "        return 10\n",
    "    if x=='WandegyaBangalore':\n",
    "        return 11\n",
    "    if x=='NakulubyaBangalore':\n",
    "        return 12\n",
    "    if x=='WandegyaDelhi':\n",
    "        return 13\n",
    "    if x=='NakulubyaDelhi':\n",
    "        return 14\n",
    "    if x=='KikoniDelhi':\n",
    "        return 15\n",
    "    if x=='KikumikumiDelhi':\n",
    "        return 16\n",
    "    if x=='NakulubyaChennai':\n",
    "        return 17\n",
    "    if x=='KikoniChennai':\n",
    "        return 18\n",
    "    if x=='KikumikumiChennai':\n",
    "        return 19\n",
    "    if x=='WandegyaChennai':\n",
    "        return 20\n",
    "    if x=='WandegyaHyderabad':\n",
    "        return 21\n",
    "    if x=='NakulubyaHyderabad':\n",
    "        return 22\n",
    "    if x=='KikoniHyderabad':\n",
    "        return 23\n",
    "    if x=='KikumikumiHyderabad':\n",
    "        return 24\n",
    "    "
   ]
  },
  {
   "cell_type": "code",
   "execution_count": 7,
   "id": "be373909",
   "metadata": {},
   "outputs": [
    {
     "data": {
      "text/html": [
       "<div>\n",
       "<style scoped>\n",
       "    .dataframe tbody tr th:only-of-type {\n",
       "        vertical-align: middle;\n",
       "    }\n",
       "\n",
       "    .dataframe tbody tr th {\n",
       "        vertical-align: top;\n",
       "    }\n",
       "\n",
       "    .dataframe thead th {\n",
       "        text-align: right;\n",
       "    }\n",
       "</style>\n",
       "<table border=\"1\" class=\"dataframe\">\n",
       "  <thead>\n",
       "    <tr style=\"text-align: right;\">\n",
       "      <th></th>\n",
       "      <th>Posted On</th>\n",
       "      <th>BHK</th>\n",
       "      <th>Rent</th>\n",
       "      <th>Size</th>\n",
       "      <th>Floor</th>\n",
       "      <th>Area Type</th>\n",
       "      <th>Area Locality</th>\n",
       "      <th>City</th>\n",
       "      <th>Furnishing Status</th>\n",
       "      <th>Tenant Preferred</th>\n",
       "      <th>Bathroom</th>\n",
       "      <th>Point of Contact</th>\n",
       "      <th>location</th>\n",
       "      <th>region</th>\n",
       "    </tr>\n",
       "  </thead>\n",
       "  <tbody>\n",
       "    <tr>\n",
       "      <th>0</th>\n",
       "      <td>5/18/2022</td>\n",
       "      <td>2</td>\n",
       "      <td>10000.0</td>\n",
       "      <td>1100</td>\n",
       "      <td>Ground out of 2</td>\n",
       "      <td>Super Area</td>\n",
       "      <td>Kikoni</td>\n",
       "      <td>Kolkata</td>\n",
       "      <td>Unfurnished</td>\n",
       "      <td>Bachelors/Family</td>\n",
       "      <td>2</td>\n",
       "      <td>Contact Owner</td>\n",
       "      <td>KikoniKolkata</td>\n",
       "      <td>1</td>\n",
       "    </tr>\n",
       "    <tr>\n",
       "      <th>1</th>\n",
       "      <td>5/13/2022</td>\n",
       "      <td>2</td>\n",
       "      <td>20000.0</td>\n",
       "      <td>800</td>\n",
       "      <td>1 out of 3</td>\n",
       "      <td>Super Area</td>\n",
       "      <td>Kikumikumi</td>\n",
       "      <td>Kolkata</td>\n",
       "      <td>Semi-Furnished</td>\n",
       "      <td>Bachelors/Family</td>\n",
       "      <td>1</td>\n",
       "      <td>Contact Owner</td>\n",
       "      <td>KikumikumiKolkata</td>\n",
       "      <td>2</td>\n",
       "    </tr>\n",
       "    <tr>\n",
       "      <th>2</th>\n",
       "      <td>5/16/2022</td>\n",
       "      <td>2</td>\n",
       "      <td>17000.0</td>\n",
       "      <td>1000</td>\n",
       "      <td>1 out of 3</td>\n",
       "      <td>Super Area</td>\n",
       "      <td>Wandegya</td>\n",
       "      <td>Kolkata</td>\n",
       "      <td>Semi-Furnished</td>\n",
       "      <td>Bachelors/Family</td>\n",
       "      <td>1</td>\n",
       "      <td>Contact Owner</td>\n",
       "      <td>WandegyaKolkata</td>\n",
       "      <td>3</td>\n",
       "    </tr>\n",
       "    <tr>\n",
       "      <th>3</th>\n",
       "      <td>7/4/2022</td>\n",
       "      <td>2</td>\n",
       "      <td>10000.0</td>\n",
       "      <td>800</td>\n",
       "      <td>1 out of 2</td>\n",
       "      <td>Super Area</td>\n",
       "      <td>Nakulubya</td>\n",
       "      <td>Kolkata</td>\n",
       "      <td>Unfurnished</td>\n",
       "      <td>Bachelors/Family</td>\n",
       "      <td>1</td>\n",
       "      <td>Contact Owner</td>\n",
       "      <td>NakulubyaKolkata</td>\n",
       "      <td>4</td>\n",
       "    </tr>\n",
       "    <tr>\n",
       "      <th>4</th>\n",
       "      <td>5/9/2022</td>\n",
       "      <td>2</td>\n",
       "      <td>7500.0</td>\n",
       "      <td>850</td>\n",
       "      <td>1 out of 2</td>\n",
       "      <td>Carpet Area</td>\n",
       "      <td>Kikoni</td>\n",
       "      <td>Kolkata</td>\n",
       "      <td>Unfurnished</td>\n",
       "      <td>Bachelors</td>\n",
       "      <td>1</td>\n",
       "      <td>Contact Owner</td>\n",
       "      <td>KikoniKolkata</td>\n",
       "      <td>1</td>\n",
       "    </tr>\n",
       "    <tr>\n",
       "      <th>5</th>\n",
       "      <td>4/29/2022</td>\n",
       "      <td>2</td>\n",
       "      <td>7000.0</td>\n",
       "      <td>600</td>\n",
       "      <td>Ground out of 1</td>\n",
       "      <td>Super Area</td>\n",
       "      <td>Kikumikumi</td>\n",
       "      <td>Kolkata</td>\n",
       "      <td>Unfurnished</td>\n",
       "      <td>Bachelors/Family</td>\n",
       "      <td>2</td>\n",
       "      <td>Contact Owner</td>\n",
       "      <td>KikumikumiKolkata</td>\n",
       "      <td>2</td>\n",
       "    </tr>\n",
       "    <tr>\n",
       "      <th>6</th>\n",
       "      <td>6/21/2022</td>\n",
       "      <td>2</td>\n",
       "      <td>10000.0</td>\n",
       "      <td>700</td>\n",
       "      <td>Ground out of 4</td>\n",
       "      <td>Super Area</td>\n",
       "      <td>Wandegya</td>\n",
       "      <td>Kolkata</td>\n",
       "      <td>Unfurnished</td>\n",
       "      <td>Bachelors</td>\n",
       "      <td>2</td>\n",
       "      <td>Contact Agent</td>\n",
       "      <td>WandegyaKolkata</td>\n",
       "      <td>3</td>\n",
       "    </tr>\n",
       "    <tr>\n",
       "      <th>7</th>\n",
       "      <td>6/21/2022</td>\n",
       "      <td>1</td>\n",
       "      <td>5000.0</td>\n",
       "      <td>250</td>\n",
       "      <td>1 out of 2</td>\n",
       "      <td>Super Area</td>\n",
       "      <td>Nakulubya</td>\n",
       "      <td>Kolkata</td>\n",
       "      <td>Unfurnished</td>\n",
       "      <td>Bachelors</td>\n",
       "      <td>1</td>\n",
       "      <td>Contact Agent</td>\n",
       "      <td>NakulubyaKolkata</td>\n",
       "      <td>4</td>\n",
       "    </tr>\n",
       "    <tr>\n",
       "      <th>8</th>\n",
       "      <td>4282022</td>\n",
       "      <td>2</td>\n",
       "      <td>26000.0</td>\n",
       "      <td>800</td>\n",
       "      <td>1 out of 2</td>\n",
       "      <td>Carpet Area</td>\n",
       "      <td>Kikoni</td>\n",
       "      <td>Kolkata</td>\n",
       "      <td>Unfurnished</td>\n",
       "      <td>Bachelors</td>\n",
       "      <td>2</td>\n",
       "      <td>Contact Agent</td>\n",
       "      <td>KikoniKolkata</td>\n",
       "      <td>1</td>\n",
       "    </tr>\n",
       "    <tr>\n",
       "      <th>9</th>\n",
       "      <td>6/20/2022</td>\n",
       "      <td>2</td>\n",
       "      <td>10000.0</td>\n",
       "      <td>1000</td>\n",
       "      <td>1 out of 3</td>\n",
       "      <td>Carpet Area</td>\n",
       "      <td>Kikumikumi</td>\n",
       "      <td>Kolkata</td>\n",
       "      <td>Semi-Furnished</td>\n",
       "      <td>Bachelors/Family</td>\n",
       "      <td>2</td>\n",
       "      <td>Contact Owner</td>\n",
       "      <td>KikumikumiKolkata</td>\n",
       "      <td>2</td>\n",
       "    </tr>\n",
       "  </tbody>\n",
       "</table>\n",
       "</div>"
      ],
      "text/plain": [
       "   Posted On  BHK     Rent  Size            Floor    Area Type Area Locality  \\\n",
       "0  5/18/2022    2  10000.0  1100  Ground out of 2   Super Area        Kikoni   \n",
       "1  5/13/2022    2  20000.0   800       1 out of 3   Super Area    Kikumikumi   \n",
       "2  5/16/2022    2  17000.0  1000       1 out of 3   Super Area      Wandegya   \n",
       "3   7/4/2022    2  10000.0   800       1 out of 2   Super Area     Nakulubya   \n",
       "4   5/9/2022    2   7500.0   850       1 out of 2  Carpet Area        Kikoni   \n",
       "5  4/29/2022    2   7000.0   600  Ground out of 1   Super Area    Kikumikumi   \n",
       "6  6/21/2022    2  10000.0   700  Ground out of 4   Super Area      Wandegya   \n",
       "7  6/21/2022    1   5000.0   250       1 out of 2   Super Area     Nakulubya   \n",
       "8    4282022    2  26000.0   800       1 out of 2  Carpet Area        Kikoni   \n",
       "9  6/20/2022    2  10000.0  1000       1 out of 3  Carpet Area    Kikumikumi   \n",
       "\n",
       "      City Furnishing Status  Tenant Preferred  Bathroom Point of Contact  \\\n",
       "0  Kolkata       Unfurnished  Bachelors/Family         2    Contact Owner   \n",
       "1  Kolkata    Semi-Furnished  Bachelors/Family         1    Contact Owner   \n",
       "2  Kolkata    Semi-Furnished  Bachelors/Family         1    Contact Owner   \n",
       "3  Kolkata       Unfurnished  Bachelors/Family         1    Contact Owner   \n",
       "4  Kolkata       Unfurnished         Bachelors         1    Contact Owner   \n",
       "5  Kolkata       Unfurnished  Bachelors/Family         2    Contact Owner   \n",
       "6  Kolkata       Unfurnished         Bachelors         2    Contact Agent   \n",
       "7  Kolkata       Unfurnished         Bachelors         1    Contact Agent   \n",
       "8  Kolkata       Unfurnished         Bachelors         2    Contact Agent   \n",
       "9  Kolkata    Semi-Furnished  Bachelors/Family         2    Contact Owner   \n",
       "\n",
       "            location  region  \n",
       "0      KikoniKolkata       1  \n",
       "1  KikumikumiKolkata       2  \n",
       "2    WandegyaKolkata       3  \n",
       "3   NakulubyaKolkata       4  \n",
       "4      KikoniKolkata       1  \n",
       "5  KikumikumiKolkata       2  \n",
       "6    WandegyaKolkata       3  \n",
       "7   NakulubyaKolkata       4  \n",
       "8      KikoniKolkata       1  \n",
       "9  KikumikumiKolkata       2  "
      ]
     },
     "execution_count": 7,
     "metadata": {},
     "output_type": "execute_result"
    }
   ],
   "source": [
    "df['region']=df['location'].apply(giveids)\n",
    "df.head(10)"
   ]
  },
  {
   "cell_type": "code",
   "execution_count": 8,
   "id": "4c0f5f12",
   "metadata": {},
   "outputs": [
    {
     "data": {
      "text/html": [
       "<div>\n",
       "<style scoped>\n",
       "    .dataframe tbody tr th:only-of-type {\n",
       "        vertical-align: middle;\n",
       "    }\n",
       "\n",
       "    .dataframe tbody tr th {\n",
       "        vertical-align: top;\n",
       "    }\n",
       "\n",
       "    .dataframe thead th {\n",
       "        text-align: right;\n",
       "    }\n",
       "</style>\n",
       "<table border=\"1\" class=\"dataframe\">\n",
       "  <thead>\n",
       "    <tr style=\"text-align: right;\">\n",
       "      <th></th>\n",
       "      <th>Posted On</th>\n",
       "      <th>BHK</th>\n",
       "      <th>Rent</th>\n",
       "      <th>Size</th>\n",
       "      <th>Floor</th>\n",
       "      <th>Area Type</th>\n",
       "      <th>Furnishing Status</th>\n",
       "      <th>Tenant Preferred</th>\n",
       "      <th>Bathroom</th>\n",
       "      <th>Point of Contact</th>\n",
       "      <th>region</th>\n",
       "    </tr>\n",
       "  </thead>\n",
       "  <tbody>\n",
       "    <tr>\n",
       "      <th>0</th>\n",
       "      <td>5/18/2022</td>\n",
       "      <td>2</td>\n",
       "      <td>10000.0</td>\n",
       "      <td>1100</td>\n",
       "      <td>Ground out of 2</td>\n",
       "      <td>Super Area</td>\n",
       "      <td>Unfurnished</td>\n",
       "      <td>Bachelors/Family</td>\n",
       "      <td>2</td>\n",
       "      <td>Contact Owner</td>\n",
       "      <td>1</td>\n",
       "    </tr>\n",
       "    <tr>\n",
       "      <th>1</th>\n",
       "      <td>5/13/2022</td>\n",
       "      <td>2</td>\n",
       "      <td>20000.0</td>\n",
       "      <td>800</td>\n",
       "      <td>1 out of 3</td>\n",
       "      <td>Super Area</td>\n",
       "      <td>Semi-Furnished</td>\n",
       "      <td>Bachelors/Family</td>\n",
       "      <td>1</td>\n",
       "      <td>Contact Owner</td>\n",
       "      <td>2</td>\n",
       "    </tr>\n",
       "    <tr>\n",
       "      <th>2</th>\n",
       "      <td>5/16/2022</td>\n",
       "      <td>2</td>\n",
       "      <td>17000.0</td>\n",
       "      <td>1000</td>\n",
       "      <td>1 out of 3</td>\n",
       "      <td>Super Area</td>\n",
       "      <td>Semi-Furnished</td>\n",
       "      <td>Bachelors/Family</td>\n",
       "      <td>1</td>\n",
       "      <td>Contact Owner</td>\n",
       "      <td>3</td>\n",
       "    </tr>\n",
       "  </tbody>\n",
       "</table>\n",
       "</div>"
      ],
      "text/plain": [
       "   Posted On  BHK     Rent  Size            Floor   Area Type  \\\n",
       "0  5/18/2022    2  10000.0  1100  Ground out of 2  Super Area   \n",
       "1  5/13/2022    2  20000.0   800       1 out of 3  Super Area   \n",
       "2  5/16/2022    2  17000.0  1000       1 out of 3  Super Area   \n",
       "\n",
       "  Furnishing Status  Tenant Preferred  Bathroom Point of Contact  region  \n",
       "0       Unfurnished  Bachelors/Family         2    Contact Owner       1  \n",
       "1    Semi-Furnished  Bachelors/Family         1    Contact Owner       2  \n",
       "2    Semi-Furnished  Bachelors/Family         1    Contact Owner       3  "
      ]
     },
     "execution_count": 8,
     "metadata": {},
     "output_type": "execute_result"
    }
   ],
   "source": [
    "df2=df.drop(['Area Locality','City','location'],axis='columns')\n",
    "df2.head(3)"
   ]
  },
  {
   "cell_type": "code",
   "execution_count": 9,
   "id": "479b6f59",
   "metadata": {},
   "outputs": [
    {
     "data": {
      "text/plain": [
       "<AxesSubplot:>"
      ]
     },
     "execution_count": 9,
     "metadata": {},
     "output_type": "execute_result"
    },
    {
     "data": {
      "image/png": "[encoded data removed]",
      "text/plain": [
       "<Figure size 720x720 with 2 Axes>"
      ]
     },
     "metadata": {
      "needs_background": "light"
     },
     "output_type": "display_data"
    }
   ],
   "source": [
    "#heatmap\n",
    "import seaborn as sns\n",
    "corrn=df2.corr()\n",
    "plt.figure(figsize=(10,10))\n",
    "sns.heatmap(corrn,cbar=True,square=True,fmt='.1f',annot=True,cmap='Blues')"
   ]
  },
  {
   "cell_type": "code",
   "execution_count": 10,
   "id": "6e0ea920",
   "metadata": {},
   "outputs": [
    {
     "data": {
      "text/plain": [
       "Index(['Posted On', 'BHK', 'Rent', 'Size', 'Floor', 'Area Type',\n",
       "       'Furnishing Status', 'Tenant Preferred', 'Bathroom', 'Point of Contact',\n",
       "       'region'],\n",
       "      dtype='object')"
      ]
     },
     "execution_count": 10,
     "metadata": {},
     "output_type": "execute_result"
    }
   ],
   "source": [
    "df2.columns"
   ]
  },
  {
   "cell_type": "code",
   "execution_count": 11,
   "id": "0231174f",
   "metadata": {},
   "outputs": [
    {
     "data": {
      "text/plain": [
       "array(['Unfurnished', 'Semi-Furnished', 'Furnished'], dtype=object)"
      ]
     },
     "execution_count": 11,
     "metadata": {},
     "output_type": "execute_result"
    }
   ],
   "source": [
    "df2['Furnishing Status'].unique()"
   ]
  },
  {
   "cell_type": "code",
   "execution_count": 12,
   "id": "64b85428",
   "metadata": {},
   "outputs": [
    {
     "data": {
      "text/plain": [
       "3"
      ]
     },
     "execution_count": 12,
     "metadata": {},
     "output_type": "execute_result"
    }
   ],
   "source": [
    "df2['Furnishing Status'].nunique()"
   ]
  },
  {
   "cell_type": "code",
   "execution_count": 13,
   "id": "58abec25",
   "metadata": {},
   "outputs": [
    {
     "data": {
      "text/html": [
       "<div>\n",
       "<style scoped>\n",
       "    .dataframe tbody tr th:only-of-type {\n",
       "        vertical-align: middle;\n",
       "    }\n",
       "\n",
       "    .dataframe tbody tr th {\n",
       "        vertical-align: top;\n",
       "    }\n",
       "\n",
       "    .dataframe thead th {\n",
       "        text-align: right;\n",
       "    }\n",
       "</style>\n",
       "<table border=\"1\" class=\"dataframe\">\n",
       "  <thead>\n",
       "    <tr style=\"text-align: right;\">\n",
       "      <th></th>\n",
       "      <th>Posted On</th>\n",
       "      <th>BHK</th>\n",
       "      <th>Rent</th>\n",
       "      <th>Size</th>\n",
       "      <th>Floor</th>\n",
       "      <th>Area Type</th>\n",
       "      <th>Furnishing Status</th>\n",
       "      <th>Tenant Preferred</th>\n",
       "      <th>Bathroom</th>\n",
       "      <th>Point of Contact</th>\n",
       "      <th>region</th>\n",
       "      <th>Furnishing</th>\n",
       "    </tr>\n",
       "  </thead>\n",
       "  <tbody>\n",
       "    <tr>\n",
       "      <th>0</th>\n",
       "      <td>5/18/2022</td>\n",
       "      <td>2</td>\n",
       "      <td>10000.0</td>\n",
       "      <td>1100</td>\n",
       "      <td>Ground out of 2</td>\n",
       "      <td>Super Area</td>\n",
       "      <td>Unfurnished</td>\n",
       "      <td>Bachelors/Family</td>\n",
       "      <td>2</td>\n",
       "      <td>Contact Owner</td>\n",
       "      <td>1</td>\n",
       "      <td>1</td>\n",
       "    </tr>\n",
       "    <tr>\n",
       "      <th>1</th>\n",
       "      <td>5/13/2022</td>\n",
       "      <td>2</td>\n",
       "      <td>20000.0</td>\n",
       "      <td>800</td>\n",
       "      <td>1 out of 3</td>\n",
       "      <td>Super Area</td>\n",
       "      <td>Semi-Furnished</td>\n",
       "      <td>Bachelors/Family</td>\n",
       "      <td>1</td>\n",
       "      <td>Contact Owner</td>\n",
       "      <td>2</td>\n",
       "      <td>2</td>\n",
       "    </tr>\n",
       "    <tr>\n",
       "      <th>2</th>\n",
       "      <td>5/16/2022</td>\n",
       "      <td>2</td>\n",
       "      <td>17000.0</td>\n",
       "      <td>1000</td>\n",
       "      <td>1 out of 3</td>\n",
       "      <td>Super Area</td>\n",
       "      <td>Semi-Furnished</td>\n",
       "      <td>Bachelors/Family</td>\n",
       "      <td>1</td>\n",
       "      <td>Contact Owner</td>\n",
       "      <td>3</td>\n",
       "      <td>2</td>\n",
       "    </tr>\n",
       "    <tr>\n",
       "      <th>3</th>\n",
       "      <td>7/4/2022</td>\n",
       "      <td>2</td>\n",
       "      <td>10000.0</td>\n",
       "      <td>800</td>\n",
       "      <td>1 out of 2</td>\n",
       "      <td>Super Area</td>\n",
       "      <td>Unfurnished</td>\n",
       "      <td>Bachelors/Family</td>\n",
       "      <td>1</td>\n",
       "      <td>Contact Owner</td>\n",
       "      <td>4</td>\n",
       "      <td>1</td>\n",
       "    </tr>\n",
       "    <tr>\n",
       "      <th>4</th>\n",
       "      <td>5/9/2022</td>\n",
       "      <td>2</td>\n",
       "      <td>7500.0</td>\n",
       "      <td>850</td>\n",
       "      <td>1 out of 2</td>\n",
       "      <td>Carpet Area</td>\n",
       "      <td>Unfurnished</td>\n",
       "      <td>Bachelors</td>\n",
       "      <td>1</td>\n",
       "      <td>Contact Owner</td>\n",
       "      <td>1</td>\n",
       "      <td>1</td>\n",
       "    </tr>\n",
       "    <tr>\n",
       "      <th>5</th>\n",
       "      <td>4/29/2022</td>\n",
       "      <td>2</td>\n",
       "      <td>7000.0</td>\n",
       "      <td>600</td>\n",
       "      <td>Ground out of 1</td>\n",
       "      <td>Super Area</td>\n",
       "      <td>Unfurnished</td>\n",
       "      <td>Bachelors/Family</td>\n",
       "      <td>2</td>\n",
       "      <td>Contact Owner</td>\n",
       "      <td>2</td>\n",
       "      <td>1</td>\n",
       "    </tr>\n",
       "    <tr>\n",
       "      <th>6</th>\n",
       "      <td>6/21/2022</td>\n",
       "      <td>2</td>\n",
       "      <td>10000.0</td>\n",
       "      <td>700</td>\n",
       "      <td>Ground out of 4</td>\n",
       "      <td>Super Area</td>\n",
       "      <td>Unfurnished</td>\n",
       "      <td>Bachelors</td>\n",
       "      <td>2</td>\n",
       "      <td>Contact Agent</td>\n",
       "      <td>3</td>\n",
       "      <td>1</td>\n",
       "    </tr>\n",
       "    <tr>\n",
       "      <th>7</th>\n",
       "      <td>6/21/2022</td>\n",
       "      <td>1</td>\n",
       "      <td>5000.0</td>\n",
       "      <td>250</td>\n",
       "      <td>1 out of 2</td>\n",
       "      <td>Super Area</td>\n",
       "      <td>Unfurnished</td>\n",
       "      <td>Bachelors</td>\n",
       "      <td>1</td>\n",
       "      <td>Contact Agent</td>\n",
       "      <td>4</td>\n",
       "      <td>1</td>\n",
       "    </tr>\n",
       "    <tr>\n",
       "      <th>8</th>\n",
       "      <td>4282022</td>\n",
       "      <td>2</td>\n",
       "      <td>26000.0</td>\n",
       "      <td>800</td>\n",
       "      <td>1 out of 2</td>\n",
       "      <td>Carpet Area</td>\n",
       "      <td>Unfurnished</td>\n",
       "      <td>Bachelors</td>\n",
       "      <td>2</td>\n",
       "      <td>Contact Agent</td>\n",
       "      <td>1</td>\n",
       "      <td>1</td>\n",
       "    </tr>\n",
       "    <tr>\n",
       "      <th>9</th>\n",
       "      <td>6/20/2022</td>\n",
       "      <td>2</td>\n",
       "      <td>10000.0</td>\n",
       "      <td>1000</td>\n",
       "      <td>1 out of 3</td>\n",
       "      <td>Carpet Area</td>\n",
       "      <td>Semi-Furnished</td>\n",
       "      <td>Bachelors/Family</td>\n",
       "      <td>2</td>\n",
       "      <td>Contact Owner</td>\n",
       "      <td>2</td>\n",
       "      <td>2</td>\n",
       "    </tr>\n",
       "  </tbody>\n",
       "</table>\n",
       "</div>"
      ],
      "text/plain": [
       "   Posted On  BHK     Rent  Size            Floor    Area Type  \\\n",
       "0  5/18/2022    2  10000.0  1100  Ground out of 2   Super Area   \n",
       "1  5/13/2022    2  20000.0   800       1 out of 3   Super Area   \n",
       "2  5/16/2022    2  17000.0  1000       1 out of 3   Super Area   \n",
       "3   7/4/2022    2  10000.0   800       1 out of 2   Super Area   \n",
       "4   5/9/2022    2   7500.0   850       1 out of 2  Carpet Area   \n",
       "5  4/29/2022    2   7000.0   600  Ground out of 1   Super Area   \n",
       "6  6/21/2022    2  10000.0   700  Ground out of 4   Super Area   \n",
       "7  6/21/2022    1   5000.0   250       1 out of 2   Super Area   \n",
       "8    4282022    2  26000.0   800       1 out of 2  Carpet Area   \n",
       "9  6/20/2022    2  10000.0  1000       1 out of 3  Carpet Area   \n",
       "\n",
       "  Furnishing Status  Tenant Preferred  Bathroom Point of Contact  region  \\\n",
       "0       Unfurnished  Bachelors/Family         2    Contact Owner       1   \n",
       "1    Semi-Furnished  Bachelors/Family         1    Contact Owner       2   \n",
       "2    Semi-Furnished  Bachelors/Family         1    Contact Owner       3   \n",
       "3       Unfurnished  Bachelors/Family         1    Contact Owner       4   \n",
       "4       Unfurnished         Bachelors         1    Contact Owner       1   \n",
       "5       Unfurnished  Bachelors/Family         2    Contact Owner       2   \n",
       "6       Unfurnished         Bachelors         2    Contact Agent       3   \n",
       "7       Unfurnished         Bachelors         1    Contact Agent       4   \n",
       "8       Unfurnished         Bachelors         2    Contact Agent       1   \n",
       "9    Semi-Furnished  Bachelors/Family         2    Contact Owner       2   \n",
       "\n",
       "   Furnishing  \n",
       "0           1  \n",
       "1           2  \n",
       "2           2  \n",
       "3           1  \n",
       "4           1  \n",
       "5           1  \n",
       "6           1  \n",
       "7           1  \n",
       "8           1  \n",
       "9           2  "
      ]
     },
     "execution_count": 13,
     "metadata": {},
     "output_type": "execute_result"
    }
   ],
   "source": [
    "def giveids(x):\n",
    "    if x=='Unfurnished':\n",
    "        return 1\n",
    "    if x=='Semi-Furnished':\n",
    "        return 2\n",
    "    if x=='Furnished':\n",
    "        return 3\n",
    "df2['Furnishing']=df['Furnishing Status'].apply(giveids)\n",
    "df2.head(10) "
   ]
  },
  {
   "cell_type": "code",
   "execution_count": 14,
   "id": "88a76ec8",
   "metadata": {},
   "outputs": [],
   "source": [
    "df3=df2.drop('Furnishing Status',axis='columns')\n"
   ]
  },
  {
   "cell_type": "code",
   "execution_count": 15,
   "id": "57d5cba0",
   "metadata": {},
   "outputs": [
    {
     "data": {
      "text/plain": [
       "<AxesSubplot:>"
      ]
     },
     "execution_count": 15,
     "metadata": {},
     "output_type": "execute_result"
    },
    {
     "data": {
      "image/png": "[encoded data removed]",
      "text/plain": [
       "<Figure size 720x720 with 2 Axes>"
      ]
     },
     "metadata": {
      "needs_background": "light"
     },
     "output_type": "display_data"
    }
   ],
   "source": [
    "corrn=df3.corr()\n",
    "plt.figure(figsize=(10,10))\n",
    "sns.heatmap(corrn,cbar=True,square=True,fmt='.1f',annot=True,cmap='Blues')"
   ]
  },
  {
   "cell_type": "code",
   "execution_count": 16,
   "id": "f0bcebf1",
   "metadata": {},
   "outputs": [
    {
     "data": {
      "text/plain": [
       "array(['Super Area', 'Carpet Area', 'Built Area'], dtype=object)"
      ]
     },
     "execution_count": 16,
     "metadata": {},
     "output_type": "execute_result"
    }
   ],
   "source": [
    "df3['Area Type'].unique()"
   ]
  },
  {
   "cell_type": "code",
   "execution_count": 17,
   "id": "4933907d",
   "metadata": {},
   "outputs": [
    {
     "data": {
      "text/html": [
       "<div>\n",
       "<style scoped>\n",
       "    .dataframe tbody tr th:only-of-type {\n",
       "        vertical-align: middle;\n",
       "    }\n",
       "\n",
       "    .dataframe tbody tr th {\n",
       "        vertical-align: top;\n",
       "    }\n",
       "\n",
       "    .dataframe thead th {\n",
       "        text-align: right;\n",
       "    }\n",
       "</style>\n",
       "<table border=\"1\" class=\"dataframe\">\n",
       "  <thead>\n",
       "    <tr style=\"text-align: right;\">\n",
       "      <th></th>\n",
       "      <th>Posted On</th>\n",
       "      <th>BHK</th>\n",
       "      <th>Rent</th>\n",
       "      <th>Size</th>\n",
       "      <th>Floor</th>\n",
       "      <th>Area Type</th>\n",
       "      <th>Tenant Preferred</th>\n",
       "      <th>Bathroom</th>\n",
       "      <th>Point of Contact</th>\n",
       "      <th>region</th>\n",
       "      <th>Furnishing</th>\n",
       "      <th>A_Type</th>\n",
       "    </tr>\n",
       "  </thead>\n",
       "  <tbody>\n",
       "    <tr>\n",
       "      <th>0</th>\n",
       "      <td>5/18/2022</td>\n",
       "      <td>2</td>\n",
       "      <td>10000.0</td>\n",
       "      <td>1100</td>\n",
       "      <td>Ground out of 2</td>\n",
       "      <td>Super Area</td>\n",
       "      <td>Bachelors/Family</td>\n",
       "      <td>2</td>\n",
       "      <td>Contact Owner</td>\n",
       "      <td>1</td>\n",
       "      <td>1</td>\n",
       "      <td>1</td>\n",
       "    </tr>\n",
       "    <tr>\n",
       "      <th>1</th>\n",
       "      <td>5/13/2022</td>\n",
       "      <td>2</td>\n",
       "      <td>20000.0</td>\n",
       "      <td>800</td>\n",
       "      <td>1 out of 3</td>\n",
       "      <td>Super Area</td>\n",
       "      <td>Bachelors/Family</td>\n",
       "      <td>1</td>\n",
       "      <td>Contact Owner</td>\n",
       "      <td>2</td>\n",
       "      <td>2</td>\n",
       "      <td>1</td>\n",
       "    </tr>\n",
       "    <tr>\n",
       "      <th>2</th>\n",
       "      <td>5/16/2022</td>\n",
       "      <td>2</td>\n",
       "      <td>17000.0</td>\n",
       "      <td>1000</td>\n",
       "      <td>1 out of 3</td>\n",
       "      <td>Super Area</td>\n",
       "      <td>Bachelors/Family</td>\n",
       "      <td>1</td>\n",
       "      <td>Contact Owner</td>\n",
       "      <td>3</td>\n",
       "      <td>2</td>\n",
       "      <td>1</td>\n",
       "    </tr>\n",
       "    <tr>\n",
       "      <th>3</th>\n",
       "      <td>7/4/2022</td>\n",
       "      <td>2</td>\n",
       "      <td>10000.0</td>\n",
       "      <td>800</td>\n",
       "      <td>1 out of 2</td>\n",
       "      <td>Super Area</td>\n",
       "      <td>Bachelors/Family</td>\n",
       "      <td>1</td>\n",
       "      <td>Contact Owner</td>\n",
       "      <td>4</td>\n",
       "      <td>1</td>\n",
       "      <td>1</td>\n",
       "    </tr>\n",
       "    <tr>\n",
       "      <th>4</th>\n",
       "      <td>5/9/2022</td>\n",
       "      <td>2</td>\n",
       "      <td>7500.0</td>\n",
       "      <td>850</td>\n",
       "      <td>1 out of 2</td>\n",
       "      <td>Carpet Area</td>\n",
       "      <td>Bachelors</td>\n",
       "      <td>1</td>\n",
       "      <td>Contact Owner</td>\n",
       "      <td>1</td>\n",
       "      <td>1</td>\n",
       "      <td>2</td>\n",
       "    </tr>\n",
       "  </tbody>\n",
       "</table>\n",
       "</div>"
      ],
      "text/plain": [
       "   Posted On  BHK     Rent  Size            Floor    Area Type  \\\n",
       "0  5/18/2022    2  10000.0  1100  Ground out of 2   Super Area   \n",
       "1  5/13/2022    2  20000.0   800       1 out of 3   Super Area   \n",
       "2  5/16/2022    2  17000.0  1000       1 out of 3   Super Area   \n",
       "3   7/4/2022    2  10000.0   800       1 out of 2   Super Area   \n",
       "4   5/9/2022    2   7500.0   850       1 out of 2  Carpet Area   \n",
       "\n",
       "   Tenant Preferred  Bathroom Point of Contact  region  Furnishing  A_Type  \n",
       "0  Bachelors/Family         2    Contact Owner       1           1       1  \n",
       "1  Bachelors/Family         1    Contact Owner       2           2       1  \n",
       "2  Bachelors/Family         1    Contact Owner       3           2       1  \n",
       "3  Bachelors/Family         1    Contact Owner       4           1       1  \n",
       "4         Bachelors         1    Contact Owner       1           1       2  "
      ]
     },
     "execution_count": 17,
     "metadata": {},
     "output_type": "execute_result"
    }
   ],
   "source": [
    "def giveids(x):\n",
    "    if x=='Super Area':\n",
    "        return 1\n",
    "    if x=='Carpet Area':\n",
    "        return 2\n",
    "    if x=='Built Area':\n",
    "        return 3\n",
    "df3['A_Type']=df['Area Type'].apply(giveids)\n",
    "df3.head(5) "
   ]
  },
  {
   "cell_type": "code",
   "execution_count": 18,
   "id": "59bee3ca",
   "metadata": {},
   "outputs": [
    {
     "data": {
      "text/plain": [
       "<AxesSubplot:>"
      ]
     },
     "execution_count": 18,
     "metadata": {},
     "output_type": "execute_result"
    },
    {
     "data": {
      "image/png": "[encoded data removed]",
      "text/plain": [
       "<Figure size 720x720 with 2 Axes>"
      ]
     },
     "metadata": {
      "needs_background": "light"
     },
     "output_type": "display_data"
    }
   ],
   "source": [
    "df4=df3.drop('Area Type',axis='columns')\n",
    "corrn=df4.corr()\n",
    "plt.figure(figsize=(10,10))\n",
    "sns.heatmap(corrn,cbar=True,square=True,fmt='.1f',annot=True,cmap='Blues')"
   ]
  },
  {
   "cell_type": "code",
   "execution_count": 19,
   "id": "f24d4ec8",
   "metadata": {},
   "outputs": [
    {
     "data": {
      "text/plain": [
       "Posted On           0\n",
       "BHK                 0\n",
       "Rent                4\n",
       "Size                0\n",
       "Floor               0\n",
       "Tenant Preferred    0\n",
       "Bathroom            0\n",
       "Point of Contact    0\n",
       "region              0\n",
       "Furnishing          0\n",
       "A_Type              0\n",
       "dtype: int64"
      ]
     },
     "execution_count": 19,
     "metadata": {},
     "output_type": "execute_result"
    }
   ],
   "source": [
    "#cleaning data removing null values\n",
    "df4.isnull().sum()"
   ]
  },
  {
   "cell_type": "code",
   "execution_count": 20,
   "id": "9fe47b18",
   "metadata": {},
   "outputs": [
    {
     "data": {
      "text/plain": [
       "(4742, 11)"
      ]
     },
     "execution_count": 20,
     "metadata": {},
     "output_type": "execute_result"
    }
   ],
   "source": [
    "df4 = df4.dropna()\n",
    "df4.isnull().sum()\n",
    "df4.shape"
   ]
  },
  {
   "cell_type": "code",
   "execution_count": 21,
   "id": "05bf9b42",
   "metadata": {},
   "outputs": [
    {
     "data": {
      "text/plain": [
       "Posted On           0\n",
       "BHK                 0\n",
       "Rent                0\n",
       "Size                0\n",
       "Floor               0\n",
       "Tenant Preferred    0\n",
       "Bathroom            0\n",
       "Point of Contact    0\n",
       "region              0\n",
       "Furnishing          0\n",
       "A_Type              0\n",
       "dtype: int64"
      ]
     },
     "execution_count": 21,
     "metadata": {},
     "output_type": "execute_result"
    }
   ],
   "source": [
    "df4.isnull().sum()"
   ]
  },
  {
   "cell_type": "code",
   "execution_count": 22,
   "id": "58b22ac7",
   "metadata": {},
   "outputs": [
    {
     "data": {
      "text/plain": [
       "3"
      ]
     },
     "execution_count": 22,
     "metadata": {},
     "output_type": "execute_result"
    }
   ],
   "source": [
    "df4.duplicated().sum()"
   ]
  },
  {
   "cell_type": "code",
   "execution_count": 23,
   "id": "5ef94948",
   "metadata": {},
   "outputs": [
    {
     "data": {
      "text/plain": [
       "0"
      ]
     },
     "execution_count": 23,
     "metadata": {},
     "output_type": "execute_result"
    }
   ],
   "source": [
    "df5=df4.drop_duplicates()\n",
    "df5.duplicated().sum()"
   ]
  },
  {
   "cell_type": "code",
   "execution_count": 24,
   "id": "e3e6c89b",
   "metadata": {},
   "outputs": [
    {
     "name": "stderr",
     "output_type": "stream",
     "text": [
      "<ipython-input-24-181b2ab072f0>:1: SettingWithCopyWarning: \n",
      "A value is trying to be set on a copy of a slice from a DataFrame.\n",
      "Try using .loc[row_indexer,col_indexer] = value instead\n",
      "\n",
      "See the caveats in the documentation: https://pandas.pydata.org/pandas-docs/stable/user_guide/indexing.html#returning-a-view-versus-a-copy\n",
      "  df5['rent_per_size'] = df5['Rent']/df5['Size']\n"
     ]
    },
    {
     "data": {
      "text/html": [
       "<div>\n",
       "<style scoped>\n",
       "    .dataframe tbody tr th:only-of-type {\n",
       "        vertical-align: middle;\n",
       "    }\n",
       "\n",
       "    .dataframe tbody tr th {\n",
       "        vertical-align: top;\n",
       "    }\n",
       "\n",
       "    .dataframe thead th {\n",
       "        text-align: right;\n",
       "    }\n",
       "</style>\n",
       "<table border=\"1\" class=\"dataframe\">\n",
       "  <thead>\n",
       "    <tr style=\"text-align: right;\">\n",
       "      <th></th>\n",
       "      <th>Posted On</th>\n",
       "      <th>BHK</th>\n",
       "      <th>Rent</th>\n",
       "      <th>Size</th>\n",
       "      <th>Floor</th>\n",
       "      <th>Tenant Preferred</th>\n",
       "      <th>Bathroom</th>\n",
       "      <th>Point of Contact</th>\n",
       "      <th>region</th>\n",
       "      <th>Furnishing</th>\n",
       "      <th>A_Type</th>\n",
       "      <th>rent_per_size</th>\n",
       "    </tr>\n",
       "  </thead>\n",
       "  <tbody>\n",
       "    <tr>\n",
       "      <th>0</th>\n",
       "      <td>5/18/2022</td>\n",
       "      <td>2</td>\n",
       "      <td>10000.0</td>\n",
       "      <td>1100</td>\n",
       "      <td>Ground out of 2</td>\n",
       "      <td>Bachelors/Family</td>\n",
       "      <td>2</td>\n",
       "      <td>Contact Owner</td>\n",
       "      <td>1</td>\n",
       "      <td>1</td>\n",
       "      <td>1</td>\n",
       "      <td>9.090909</td>\n",
       "    </tr>\n",
       "    <tr>\n",
       "      <th>1</th>\n",
       "      <td>5/13/2022</td>\n",
       "      <td>2</td>\n",
       "      <td>20000.0</td>\n",
       "      <td>800</td>\n",
       "      <td>1 out of 3</td>\n",
       "      <td>Bachelors/Family</td>\n",
       "      <td>1</td>\n",
       "      <td>Contact Owner</td>\n",
       "      <td>2</td>\n",
       "      <td>2</td>\n",
       "      <td>1</td>\n",
       "      <td>25.000000</td>\n",
       "    </tr>\n",
       "    <tr>\n",
       "      <th>2</th>\n",
       "      <td>5/16/2022</td>\n",
       "      <td>2</td>\n",
       "      <td>17000.0</td>\n",
       "      <td>1000</td>\n",
       "      <td>1 out of 3</td>\n",
       "      <td>Bachelors/Family</td>\n",
       "      <td>1</td>\n",
       "      <td>Contact Owner</td>\n",
       "      <td>3</td>\n",
       "      <td>2</td>\n",
       "      <td>1</td>\n",
       "      <td>17.000000</td>\n",
       "    </tr>\n",
       "  </tbody>\n",
       "</table>\n",
       "</div>"
      ],
      "text/plain": [
       "   Posted On  BHK     Rent  Size            Floor  Tenant Preferred  Bathroom  \\\n",
       "0  5/18/2022    2  10000.0  1100  Ground out of 2  Bachelors/Family         2   \n",
       "1  5/13/2022    2  20000.0   800       1 out of 3  Bachelors/Family         1   \n",
       "2  5/16/2022    2  17000.0  1000       1 out of 3  Bachelors/Family         1   \n",
       "\n",
       "  Point of Contact  region  Furnishing  A_Type  rent_per_size  \n",
       "0    Contact Owner       1           1       1       9.090909  \n",
       "1    Contact Owner       2           2       1      25.000000  \n",
       "2    Contact Owner       3           2       1      17.000000  "
      ]
     },
     "execution_count": 24,
     "metadata": {},
     "output_type": "execute_result"
    }
   ],
   "source": [
    "df5['rent_per_size'] = df5['Rent']/df5['Size']\n",
    "df5.head(3)"
   ]
  },
  {
   "cell_type": "code",
   "execution_count": 25,
   "id": "e8a207f4",
   "metadata": {},
   "outputs": [],
   "source": [
    "df6=df5.drop(['Posted On', 'Floor' ,'Point of Contact'],axis='columns')"
   ]
  },
  {
   "cell_type": "code",
   "execution_count": 26,
   "id": "a439e3d4",
   "metadata": {},
   "outputs": [
    {
     "data": {
      "text/plain": [
       "(4160, 9)"
      ]
     },
     "execution_count": 26,
     "metadata": {},
     "output_type": "execute_result"
    }
   ],
   "source": [
    "def remove_outliers(df):\n",
    "    df_out = pd.DataFrame()\n",
    "    for key, subdf in df.groupby('region'):\n",
    "        m = np.mean(subdf['rent_per_size'])\n",
    "        st = np.std(subdf['rent_per_size'])\n",
    "        reduced_df = subdf[(subdf['rent_per_size']>(m-st)) & (subdf['rent_per_size']<=(m+st))]\n",
    "        df_out = pd.concat([df_out,reduced_df],ignore_index=True)\n",
    "    return df_out\n",
    "df7=remove_outliers(df6)\n",
    "df7.shape"
   ]
  },
  {
   "cell_type": "code",
   "execution_count": 27,
   "id": "a7dfdc6f",
   "metadata": {},
   "outputs": [
    {
     "data": {
      "text/plain": [
       "Index(['BHK', 'Rent', 'Size', 'Tenant Preferred', 'Bathroom', 'region',\n",
       "       'Furnishing', 'A_Type', 'rent_per_size'],\n",
       "      dtype='object')"
      ]
     },
     "execution_count": 27,
     "metadata": {},
     "output_type": "execute_result"
    }
   ],
   "source": [
    "df7.columns"
   ]
  },
  {
   "cell_type": "code",
   "execution_count": 28,
   "id": "7af1c6fe",
   "metadata": {},
   "outputs": [
    {
     "data": {
      "text/plain": [
       "<AxesSubplot:>"
      ]
     },
     "execution_count": 28,
     "metadata": {},
     "output_type": "execute_result"
    },
    {
     "data": {
      "image/png": "[encoded data removed]",
      "text/plain": [
       "<Figure size 720x720 with 2 Axes>"
      ]
     },
     "metadata": {
      "needs_background": "light"
     },
     "output_type": "display_data"
    }
   ],
   "source": [
    "corrn=df7.corr()\n",
    "plt.figure(figsize=(10,10))\n",
    "sns.heatmap(corrn,cbar=True,square=True,fmt='.1f',annot=True,cmap='Blues')"
   ]
  },
  {
   "cell_type": "code",
   "execution_count": 29,
   "id": "f5c7d0bc",
   "metadata": {},
   "outputs": [
    {
     "data": {
      "text/html": [
       "<div>\n",
       "<style scoped>\n",
       "    .dataframe tbody tr th:only-of-type {\n",
       "        vertical-align: middle;\n",
       "    }\n",
       "\n",
       "    .dataframe tbody tr th {\n",
       "        vertical-align: top;\n",
       "    }\n",
       "\n",
       "    .dataframe thead th {\n",
       "        text-align: right;\n",
       "    }\n",
       "</style>\n",
       "<table border=\"1\" class=\"dataframe\">\n",
       "  <thead>\n",
       "    <tr style=\"text-align: right;\">\n",
       "      <th></th>\n",
       "      <th>BHK</th>\n",
       "      <th>Rent</th>\n",
       "      <th>Size</th>\n",
       "      <th>Tenant Preferred</th>\n",
       "      <th>Bathroom</th>\n",
       "      <th>region</th>\n",
       "      <th>Furnishing</th>\n",
       "      <th>A_Type</th>\n",
       "      <th>rent_per_size</th>\n",
       "    </tr>\n",
       "  </thead>\n",
       "  <tbody>\n",
       "    <tr>\n",
       "      <th>944</th>\n",
       "      <td>1</td>\n",
       "      <td>40000.0</td>\n",
       "      <td>680</td>\n",
       "      <td>Bachelors/Family</td>\n",
       "      <td>4</td>\n",
       "      <td>7</td>\n",
       "      <td>3</td>\n",
       "      <td>1</td>\n",
       "      <td>58.823529</td>\n",
       "    </tr>\n",
       "    <tr>\n",
       "      <th>2087</th>\n",
       "      <td>4</td>\n",
       "      <td>150000.0</td>\n",
       "      <td>4000</td>\n",
       "      <td>Bachelors</td>\n",
       "      <td>7</td>\n",
       "      <td>13</td>\n",
       "      <td>2</td>\n",
       "      <td>2</td>\n",
       "      <td>37.500000</td>\n",
       "    </tr>\n",
       "    <tr>\n",
       "      <th>2514</th>\n",
       "      <td>3</td>\n",
       "      <td>20000.0</td>\n",
       "      <td>1700</td>\n",
       "      <td>Bachelors/Family</td>\n",
       "      <td>6</td>\n",
       "      <td>17</td>\n",
       "      <td>3</td>\n",
       "      <td>2</td>\n",
       "      <td>11.764706</td>\n",
       "    </tr>\n",
       "    <tr>\n",
       "      <th>4022</th>\n",
       "      <td>1</td>\n",
       "      <td>200000.0</td>\n",
       "      <td>8000</td>\n",
       "      <td>Bachelors/Family</td>\n",
       "      <td>10</td>\n",
       "      <td>24</td>\n",
       "      <td>1</td>\n",
       "      <td>1</td>\n",
       "      <td>25.000000</td>\n",
       "    </tr>\n",
       "  </tbody>\n",
       "</table>\n",
       "</div>"
      ],
      "text/plain": [
       "      BHK      Rent  Size  Tenant Preferred  Bathroom  region  Furnishing  \\\n",
       "944     1   40000.0   680  Bachelors/Family         4       7           3   \n",
       "2087    4  150000.0  4000         Bachelors         7      13           2   \n",
       "2514    3   20000.0  1700  Bachelors/Family         6      17           3   \n",
       "4022    1  200000.0  8000  Bachelors/Family        10      24           1   \n",
       "\n",
       "      A_Type  rent_per_size  \n",
       "944        1      58.823529  \n",
       "2087       2      37.500000  \n",
       "2514       2      11.764706  \n",
       "4022       1      25.000000  "
      ]
     },
     "execution_count": 29,
     "metadata": {},
     "output_type": "execute_result"
    }
   ],
   "source": [
    "#check for bathrooms whose are more than +2 bhk\n",
    "df7[df7.Bathroom>df7.BHK+2]"
   ]
  },
  {
   "cell_type": "code",
   "execution_count": 30,
   "id": "b8c7809d",
   "metadata": {},
   "outputs": [
    {
     "data": {
      "text/plain": [
       "(4142, 9)"
      ]
     },
     "execution_count": 30,
     "metadata": {},
     "output_type": "execute_result"
    }
   ],
   "source": [
    "#remove bathroom outliers\n",
    "df8 = df7[df7.Bathroom<df7.BHK+2]\n",
    "df8.shape"
   ]
  },
  {
   "cell_type": "code",
   "execution_count": 31,
   "id": "23c4c3f7",
   "metadata": {},
   "outputs": [
    {
     "data": {
      "text/plain": [
       "<AxesSubplot:>"
      ]
     },
     "execution_count": 31,
     "metadata": {},
     "output_type": "execute_result"
    },
    {
     "data": {
      "image/png": "[encoded data removed]",
      "text/plain": [
       "<Figure size 720x720 with 2 Axes>"
      ]
     },
     "metadata": {
      "needs_background": "light"
     },
     "output_type": "display_data"
    }
   ],
   "source": [
    "corrn=df7.corr()\n",
    "plt.figure(figsize=(10,10))\n",
    "sns.heatmap(corrn,cbar=True,square=True,fmt='.1f',annot=True,cmap='Blues')"
   ]
  },
  {
   "cell_type": "code",
   "execution_count": 32,
   "id": "d523892f",
   "metadata": {},
   "outputs": [
    {
     "data": {
      "text/plain": [
       "(2294, 9)"
      ]
     },
     "execution_count": 32,
     "metadata": {},
     "output_type": "execute_result"
    }
   ],
   "source": [
    "#REMOVE BHK OUTLIERS Now we remove those BHK apartments whose rent_per_size is less than mean rent_per_size of less BHK apartment\n",
    "def remove_bhk_outliers(df):\n",
    "    exclude_indices = np.array([])\n",
    "    for location, location_df in df.groupby('region'):\n",
    "        bhk_stats = {}\n",
    "        for bhk, bhk_df in location_df.groupby('BHK'):\n",
    "            bhk_stats[bhk] = {\n",
    "                'mean': np.mean(bhk_df['rent_per_size']),\n",
    "                'std': np.std(bhk_df['rent_per_size']),\n",
    "                'count': bhk_df.shape[0]\n",
    "            }\n",
    "        for bhk, bhk_df in location_df.groupby('BHK'):\n",
    "            stats = bhk_stats.get(bhk-1)\n",
    "            if stats and stats['count']>5:\n",
    "                exclude_indices = np.append(exclude_indices, bhk_df[bhk_df['rent_per_size']<(stats['mean'])].index.values)\n",
    "    return df.drop(exclude_indices,axis='index')\n",
    "\n",
    "df8 = remove_bhk_outliers(df7)\n",
    "df8.shape"
   ]
  },
  {
   "cell_type": "code",
   "execution_count": 33,
   "id": "d79243cb",
   "metadata": {},
   "outputs": [
    {
     "data": {
      "text/plain": [
       "<AxesSubplot:>"
      ]
     },
     "execution_count": 33,
     "metadata": {},
     "output_type": "execute_result"
    },
    {
     "data": {
      "image/png": "[encoded data removed]",
      "text/plain": [
       "<Figure size 720x720 with 2 Axes>"
      ]
     },
     "metadata": {
      "needs_background": "light"
     },
     "output_type": "display_data"
    }
   ],
   "source": [
    "corrn=df8.corr()\n",
    "plt.figure(figsize=(10,10))\n",
    "sns.heatmap(corrn,cbar=True,square=True,fmt='.1f',annot=True,cmap='Blues')"
   ]
  },
  {
   "cell_type": "code",
   "execution_count": 34,
   "id": "c4169d2c",
   "metadata": {},
   "outputs": [
    {
     "data": {
      "image/png": "[encoded data removed]",
      "text/plain": [
       "<Figure size 1080x720 with 1 Axes>"
      ]
     },
     "metadata": {
      "needs_background": "light"
     },
     "output_type": "display_data"
    }
   ],
   "source": [
    "#check how prices vary for given BHK in different cities\n",
    "import matplotlib\n",
    "def plot_scatter(df,region):\n",
    "    bhk1 = df[(df['region']==region)&(df.BHK==1)]\n",
    "    bhk2 = df[(df['region']==region)&(df.BHK==2)]\n",
    "    bhk3 = df[(df['region']==region)&(df.BHK==3)]\n",
    "    bhk4 = df[(df['region']==region)&(df.BHK==4)]\n",
    "    bhk5 = df[(df['region']==region)&(df.BHK==5)]\n",
    "    bhk6 = df[(df['region']==region)&(df.BHK==6)]\n",
    "    matplotlib.rcParams['figure.figsize'] = (15,10)\n",
    "    plt.scatter(bhk1.Size,bhk1.Rent,color='blue',label='2 BHK', s=50)\n",
    "    plt.scatter(bhk2.Size,bhk2.Rent,marker='+', color='green',label='3 BHK', s=50)\n",
    "    plt.xlabel(\"Size\")\n",
    "    plt.ylabel(\"Rent\")\n",
    "    plt.title(region)\n",
    "    plt.legend()\n",
    "plot_scatter(df8,1)\n"
   ]
  },
  {
   "cell_type": "code",
   "execution_count": 35,
   "id": "95c13e08",
   "metadata": {},
   "outputs": [
    {
     "data": {
      "text/plain": [
       "<matplotlib.collections.PathCollection at 0x15ba0f624f0>"
      ]
     },
     "execution_count": 35,
     "metadata": {},
     "output_type": "execute_result"
    },
    {
     "data": {
      "image/png": "[encoded data removed]",
      "text/plain": [
       "<Figure size 1080x720 with 1 Axes>"
      ]
     },
     "metadata": {
      "needs_background": "light"
     },
     "output_type": "display_data"
    }
   ],
   "source": [
    "#general scatter\n",
    "matplotlib.rcParams['figure.figsize'] = (15,10)\n",
    "plt.scatter(df8.Size,df8.Rent,color='blue',label='data points', s=50)"
   ]
  },
  {
   "cell_type": "code",
   "execution_count": 37,
   "id": "82e64a7d",
   "metadata": {},
   "outputs": [
    {
     "data": {
      "image/png": "[encoded data removed]",
      "text/plain": [
       "<Figure size 864x360 with 1 Axes>"
      ]
     },
     "metadata": {
      "needs_background": "light"
     },
     "output_type": "display_data"
    }
   ],
   "source": [
    "# Showing which tenant is preferred the most\n",
    "import matplotlib\n",
    "# df8['Tenant Preferred'].unique()\n",
    "dfrBac = df8[df8['Tenant Preferred'] == 'Bachelors']\n",
    "numBac = len(dfrBac)\n",
    "dfrBacFam = df8[df8['Tenant Preferred'] == 'Bachelors/Family']\n",
    "numBacFam = len(dfrBacFam)\n",
    "dfrFam = df8[df8['Tenant Preferred'] == 'Family']\n",
    "numFam = len(dfrFam)\n",
    "tenant_list = ['Bachelors', 'Bachelors/Family', 'Family']\n",
    "tenant_values = [numBac, numBacFam, numFam]\n",
    "tenant_df = pd.DataFrame(tenant_list, columns=['Tenant Preferred'])\n",
    "tenant_df['Tenant value'] = tenant_values\n",
    "# tenant_df\n",
    "matplotlib.rcParams['figure.figsize'] = (12,5)\n",
    "plt.barh(tenant_df['Tenant Preferred'], tenant_df['Tenant value'])\n",
    "plt.xlabel('Value')\n",
    "plt.ylabel('Tenant Preferred')\n",
    "plt.title('Value count for the Tenants Preferred')\n",
    "plt.legend('Tenant')\n",
    "plt.show()"
   ]
  },
  {
   "cell_type": "code",
   "execution_count": 38,
   "id": "62f30561",
   "metadata": {},
   "outputs": [
    {
     "data": {
      "text/html": [
       "<div>\n",
       "<style scoped>\n",
       "    .dataframe tbody tr th:only-of-type {\n",
       "        vertical-align: middle;\n",
       "    }\n",
       "\n",
       "    .dataframe tbody tr th {\n",
       "        vertical-align: top;\n",
       "    }\n",
       "\n",
       "    .dataframe thead th {\n",
       "        text-align: right;\n",
       "    }\n",
       "</style>\n",
       "<table border=\"1\" class=\"dataframe\">\n",
       "  <thead>\n",
       "    <tr style=\"text-align: right;\">\n",
       "      <th></th>\n",
       "      <th>BHK</th>\n",
       "      <th>Rent</th>\n",
       "      <th>Size</th>\n",
       "      <th>Tenant Preferred</th>\n",
       "      <th>Bathroom</th>\n",
       "      <th>region</th>\n",
       "      <th>Furnishing</th>\n",
       "      <th>A_Type</th>\n",
       "      <th>rent_per_size</th>\n",
       "    </tr>\n",
       "  </thead>\n",
       "  <tbody>\n",
       "    <tr>\n",
       "      <th>3</th>\n",
       "      <td>1</td>\n",
       "      <td>6500.0</td>\n",
       "      <td>250</td>\n",
       "      <td>Bachelors</td>\n",
       "      <td>1</td>\n",
       "      <td>1</td>\n",
       "      <td>3</td>\n",
       "      <td>2</td>\n",
       "      <td>26.000000</td>\n",
       "    </tr>\n",
       "    <tr>\n",
       "      <th>6</th>\n",
       "      <td>1</td>\n",
       "      <td>8000.0</td>\n",
       "      <td>400</td>\n",
       "      <td>Bachelors</td>\n",
       "      <td>1</td>\n",
       "      <td>1</td>\n",
       "      <td>2</td>\n",
       "      <td>1</td>\n",
       "      <td>20.000000</td>\n",
       "    </tr>\n",
       "    <tr>\n",
       "      <th>11</th>\n",
       "      <td>1</td>\n",
       "      <td>6000.0</td>\n",
       "      <td>300</td>\n",
       "      <td>Bachelors/Family</td>\n",
       "      <td>1</td>\n",
       "      <td>1</td>\n",
       "      <td>2</td>\n",
       "      <td>1</td>\n",
       "      <td>20.000000</td>\n",
       "    </tr>\n",
       "    <tr>\n",
       "      <th>15</th>\n",
       "      <td>1</td>\n",
       "      <td>5000.0</td>\n",
       "      <td>300</td>\n",
       "      <td>Bachelors</td>\n",
       "      <td>1</td>\n",
       "      <td>1</td>\n",
       "      <td>1</td>\n",
       "      <td>2</td>\n",
       "      <td>16.666667</td>\n",
       "    </tr>\n",
       "    <tr>\n",
       "      <th>16</th>\n",
       "      <td>1</td>\n",
       "      <td>3500.0</td>\n",
       "      <td>250</td>\n",
       "      <td>Bachelors/Family</td>\n",
       "      <td>1</td>\n",
       "      <td>1</td>\n",
       "      <td>2</td>\n",
       "      <td>1</td>\n",
       "      <td>14.000000</td>\n",
       "    </tr>\n",
       "    <tr>\n",
       "      <th>...</th>\n",
       "      <td>...</td>\n",
       "      <td>...</td>\n",
       "      <td>...</td>\n",
       "      <td>...</td>\n",
       "      <td>...</td>\n",
       "      <td>...</td>\n",
       "      <td>...</td>\n",
       "      <td>...</td>\n",
       "      <td>...</td>\n",
       "    </tr>\n",
       "    <tr>\n",
       "      <th>4146</th>\n",
       "      <td>1</td>\n",
       "      <td>6500.0</td>\n",
       "      <td>600</td>\n",
       "      <td>Bachelors/Family</td>\n",
       "      <td>1</td>\n",
       "      <td>24</td>\n",
       "      <td>1</td>\n",
       "      <td>1</td>\n",
       "      <td>10.833333</td>\n",
       "    </tr>\n",
       "    <tr>\n",
       "      <th>4149</th>\n",
       "      <td>1</td>\n",
       "      <td>7500.0</td>\n",
       "      <td>850</td>\n",
       "      <td>Bachelors</td>\n",
       "      <td>1</td>\n",
       "      <td>24</td>\n",
       "      <td>2</td>\n",
       "      <td>2</td>\n",
       "      <td>8.823529</td>\n",
       "    </tr>\n",
       "    <tr>\n",
       "      <th>4151</th>\n",
       "      <td>1</td>\n",
       "      <td>6000.0</td>\n",
       "      <td>400</td>\n",
       "      <td>Bachelors/Family</td>\n",
       "      <td>1</td>\n",
       "      <td>24</td>\n",
       "      <td>1</td>\n",
       "      <td>1</td>\n",
       "      <td>15.000000</td>\n",
       "    </tr>\n",
       "    <tr>\n",
       "      <th>4154</th>\n",
       "      <td>1</td>\n",
       "      <td>9000.0</td>\n",
       "      <td>650</td>\n",
       "      <td>Bachelors/Family</td>\n",
       "      <td>1</td>\n",
       "      <td>24</td>\n",
       "      <td>3</td>\n",
       "      <td>1</td>\n",
       "      <td>13.846154</td>\n",
       "    </tr>\n",
       "    <tr>\n",
       "      <th>4156</th>\n",
       "      <td>1</td>\n",
       "      <td>5000.0</td>\n",
       "      <td>500</td>\n",
       "      <td>Bachelors/Family</td>\n",
       "      <td>1</td>\n",
       "      <td>24</td>\n",
       "      <td>3</td>\n",
       "      <td>2</td>\n",
       "      <td>10.000000</td>\n",
       "    </tr>\n",
       "  </tbody>\n",
       "</table>\n",
       "<p>1010 rows × 9 columns</p>\n",
       "</div>"
      ],
      "text/plain": [
       "      BHK    Rent  Size  Tenant Preferred  Bathroom  region  Furnishing  \\\n",
       "3       1  6500.0   250         Bachelors         1       1           3   \n",
       "6       1  8000.0   400         Bachelors         1       1           2   \n",
       "11      1  6000.0   300  Bachelors/Family         1       1           2   \n",
       "15      1  5000.0   300         Bachelors         1       1           1   \n",
       "16      1  3500.0   250  Bachelors/Family         1       1           2   \n",
       "...   ...     ...   ...               ...       ...     ...         ...   \n",
       "4146    1  6500.0   600  Bachelors/Family         1      24           1   \n",
       "4149    1  7500.0   850         Bachelors         1      24           2   \n",
       "4151    1  6000.0   400  Bachelors/Family         1      24           1   \n",
       "4154    1  9000.0   650  Bachelors/Family         1      24           3   \n",
       "4156    1  5000.0   500  Bachelors/Family         1      24           3   \n",
       "\n",
       "      A_Type  rent_per_size  \n",
       "3          2      26.000000  \n",
       "6          1      20.000000  \n",
       "11         1      20.000000  \n",
       "15         2      16.666667  \n",
       "16         1      14.000000  \n",
       "...      ...            ...  \n",
       "4146       1      10.833333  \n",
       "4149       2       8.823529  \n",
       "4151       1      15.000000  \n",
       "4154       1      13.846154  \n",
       "4156       2      10.000000  \n",
       "\n",
       "[1010 rows x 9 columns]"
      ]
     },
     "execution_count": 38,
     "metadata": {},
     "output_type": "execute_result"
    }
   ],
   "source": [
    "# Showing rent depending on the number of bedrooms(BHK)\n",
    "# df8['BHK'].unique()\n",
    "BHK1 = df8[df8['BHK'] == 1]\n",
    "bhk1_avgrent = BHK1['Rent'].mean()\n",
    "BHK2 = df8[df8['BHK'] == 2]\n",
    "bhk2_avgrent = BHK2['Rent'].mean()\n",
    "BHK3 = df8[df8['BHK'] == 3]\n",
    "bhk3_avgrent = BHK3['Rent'].mean()\n",
    "BHK4 = df8[df8['BHK'] == 4]\n",
    "bhk4_avgrent = BHK4['Rent'].mean()\n",
    "BHK5 = df8[df8['BHK'] == 5]\n",
    "bhk5_avgrent = BHK5['Rent'].mean()\n",
    "BHK6 = df8[df8['BHK'] == 6]\n",
    "bhk6_avgrent = BHK6['Rent'].mean()\n",
    "bhk_list = ['1','2','3','4','5','6']\n",
    "bhk_avgrent = [bhk1_avgrent,bhk2_avgrent,bhk3_avgrent,bhk4_avgrent,bhk5_avgrent,bhk6_avgrent]\n",
    "BHK_df = pd.DataFrame(bhk_list, columns=['BHK'])\n",
    "BHK_df['BHK Average Rent value'] = bhk_avgrent\n",
    "plt.plot(BHK_df.BHK, BHK_df['BHK Average Rent value'], color = 'green')\n",
    "plt.figsize = (8,15)\n",
    "plt.xlabel('BHK')\n",
    "plt.ylabel('Average Rent')\n",
    "plt.title('Rent depending on the number of BHK')\n",
    "plt.legend('Average Rent')\n",
    "plt.show()"
   ]
  },
  {
   "cell_type": "code",
   "execution_count": 38,
   "id": "e7a77209",
   "metadata": {
    "scrolled": true
   },
   "outputs": [
    {
     "data": {
      "text/html": [
       "<div>\n",
       "<style scoped>\n",
       "    .dataframe tbody tr th:only-of-type {\n",
       "        vertical-align: middle;\n",
       "    }\n",
       "\n",
       "    .dataframe tbody tr th {\n",
       "        vertical-align: top;\n",
       "    }\n",
       "\n",
       "    .dataframe thead th {\n",
       "        text-align: right;\n",
       "    }\n",
       "</style>\n",
       "<table border=\"1\" class=\"dataframe\">\n",
       "  <thead>\n",
       "    <tr style=\"text-align: right;\">\n",
       "      <th></th>\n",
       "      <th>BHK</th>\n",
       "      <th>Size</th>\n",
       "      <th>Bathroom</th>\n",
       "      <th>region</th>\n",
       "      <th>Furnishing</th>\n",
       "      <th>A_Type</th>\n",
       "    </tr>\n",
       "  </thead>\n",
       "  <tbody>\n",
       "    <tr>\n",
       "      <th>2</th>\n",
       "      <td>2</td>\n",
       "      <td>800</td>\n",
       "      <td>2</td>\n",
       "      <td>1</td>\n",
       "      <td>1</td>\n",
       "      <td>2</td>\n",
       "    </tr>\n",
       "    <tr>\n",
       "      <th>3</th>\n",
       "      <td>1</td>\n",
       "      <td>250</td>\n",
       "      <td>1</td>\n",
       "      <td>1</td>\n",
       "      <td>3</td>\n",
       "      <td>2</td>\n",
       "    </tr>\n",
       "    <tr>\n",
       "      <th>6</th>\n",
       "      <td>1</td>\n",
       "      <td>400</td>\n",
       "      <td>1</td>\n",
       "      <td>1</td>\n",
       "      <td>2</td>\n",
       "      <td>1</td>\n",
       "    </tr>\n",
       "  </tbody>\n",
       "</table>\n",
       "</div>"
      ],
      "text/plain": [
       "   BHK  Size  Bathroom  region  Furnishing  A_Type\n",
       "2    2   800         2       1           1       2\n",
       "3    1   250         1       1           3       2\n",
       "6    1   400         1       1           2       1"
      ]
     },
     "execution_count": 38,
     "metadata": {},
     "output_type": "execute_result"
    }
   ],
   "source": [
    "#build model\n",
    "X = df8.drop(['Rent','rent_per_size','Tenant Preferred'],axis='columns')\n",
    "X.head(3)"
   ]
  },
  {
   "cell_type": "code",
   "execution_count": 39,
   "id": "6099e8cd",
   "metadata": {},
   "outputs": [
    {
     "data": {
      "text/plain": [
       "2    26000.0\n",
       "3     6500.0\n",
       "6     8000.0\n",
       "Name: Rent, dtype: float64"
      ]
     },
     "execution_count": 39,
     "metadata": {},
     "output_type": "execute_result"
    }
   ],
   "source": [
    "y = df8['Rent']\n",
    "y.head(3)"
   ]
  },
  {
   "cell_type": "code",
   "execution_count": 40,
   "id": "b63987da",
   "metadata": {},
   "outputs": [],
   "source": [
    "from sklearn.model_selection import train_test_split\n",
    "x_train,x_test,y_train,y_test=train_test_split(X,y,test_size=0.2,random_state=4)"
   ]
  },
  {
   "cell_type": "code",
   "execution_count": 41,
   "id": "a2488e4c",
   "metadata": {},
   "outputs": [
    {
     "data": {
      "text/plain": [
       "array([39648.4089101])"
      ]
     },
     "execution_count": 41,
     "metadata": {},
     "output_type": "execute_result"
    }
   ],
   "source": [
    "from sklearn.linear_model import LinearRegression\n",
    "from sklearn.metrics import accuracy_score\n",
    "lr = LinearRegression()\n",
    "lr.fit(x_train,y_train)\n",
    "#print(lr.predict(x_test))\n",
    "data=[[2,600,2,2,1,1]]\n",
    "df9=pd.DataFrame(data,columns=['BHK','Size','Bathroom','region','Furnishing','A_Type'])\n",
    "lr.predict(df9)\n",
    "#lr.score(x_test,y_test)"
   ]
  },
  {
   "cell_type": "code",
   "execution_count": 42,
   "id": "bf5f62b3",
   "metadata": {},
   "outputs": [
    {
     "data": {
      "text/plain": [
       "array([18000.])"
      ]
     },
     "execution_count": 42,
     "metadata": {},
     "output_type": "execute_result"
    }
   ],
   "source": [
    "from sklearn.tree import DecisionTreeClassifier\n",
    "from sklearn.model_selection import train_test_split\n",
    "from sklearn.metrics import accuracy_score\n",
    "\n",
    "x_train=df8.drop(columns=['Rent','rent_per_size','Tenant Preferred'])\n",
    "y=df8['Rent']\n",
    "\n",
    "x_train,x_test,y_train,y_test=train_test_split(x_train,y,test_size=0.2)\n",
    "model=DecisionTreeClassifier()\n",
    "model.fit(x_train,y_train)\n",
    "predictions=model.predict(x_test)\n",
    "data=[[2,600,2,2,1,1]]\n",
    "df9=pd.DataFrame(data,columns=['BHK','Size','Bathroom','region','Furnishing','A_Type'])\n",
    "x_test.head(3)\n",
    "predictions=model.predict(df9)\n",
    "predictions\n",
    "# accuracy_score(y_test,predictions)"
   ]
  },
  {
   "cell_type": "code",
   "execution_count": 43,
   "id": "576d9100",
   "metadata": {},
   "outputs": [
    {
     "name": "stdout",
     "output_type": "stream",
     "text": [
      "Requirement already satisfied: xgboost in d:\\trev\\anaconda\\lib\\site-packages (1.6.2)Note: you may need to restart the kernel to use updated packages.\n",
      "Requirement already satisfied: numpy in d:\\trev\\anaconda\\lib\\site-packages (from xgboost) (1.20.1)\n",
      "Requirement already satisfied: scipy in d:\\trev\\anaconda\\lib\\site-packages (from xgboost) (1.6.2)\n",
      "\n"
     ]
    }
   ],
   "source": [
    "pip install xgboost"
   ]
  },
  {
   "cell_type": "code",
   "execution_count": 44,
   "id": "6b7560cc",
   "metadata": {},
   "outputs": [
    {
     "data": {
      "text/html": [
       "<div>\n",
       "<style scoped>\n",
       "    .dataframe tbody tr th:only-of-type {\n",
       "        vertical-align: middle;\n",
       "    }\n",
       "\n",
       "    .dataframe tbody tr th {\n",
       "        vertical-align: top;\n",
       "    }\n",
       "\n",
       "    .dataframe thead th {\n",
       "        text-align: right;\n",
       "    }\n",
       "</style>\n",
       "<table border=\"1\" class=\"dataframe\">\n",
       "  <thead>\n",
       "    <tr style=\"text-align: right;\">\n",
       "      <th></th>\n",
       "      <th>BHK</th>\n",
       "      <th>Size</th>\n",
       "      <th>Bathroom</th>\n",
       "      <th>region</th>\n",
       "      <th>Furnishing</th>\n",
       "      <th>A_Type</th>\n",
       "    </tr>\n",
       "  </thead>\n",
       "  <tbody>\n",
       "    <tr>\n",
       "      <th>2</th>\n",
       "      <td>2</td>\n",
       "      <td>800</td>\n",
       "      <td>2</td>\n",
       "      <td>1</td>\n",
       "      <td>1</td>\n",
       "      <td>2</td>\n",
       "    </tr>\n",
       "    <tr>\n",
       "      <th>3</th>\n",
       "      <td>1</td>\n",
       "      <td>250</td>\n",
       "      <td>1</td>\n",
       "      <td>1</td>\n",
       "      <td>3</td>\n",
       "      <td>2</td>\n",
       "    </tr>\n",
       "    <tr>\n",
       "      <th>6</th>\n",
       "      <td>1</td>\n",
       "      <td>400</td>\n",
       "      <td>1</td>\n",
       "      <td>1</td>\n",
       "      <td>2</td>\n",
       "      <td>1</td>\n",
       "    </tr>\n",
       "  </tbody>\n",
       "</table>\n",
       "</div>"
      ],
      "text/plain": [
       "   BHK  Size  Bathroom  region  Furnishing  A_Type\n",
       "2    2   800         2       1           1       2\n",
       "3    1   250         1       1           3       2\n",
       "6    1   400         1       1           2       1"
      ]
     },
     "execution_count": 44,
     "metadata": {},
     "output_type": "execute_result"
    }
   ],
   "source": [
    "X = df8.drop(['Rent','rent_per_size','Tenant Preferred'],axis='columns')\n",
    "X.head(3)"
   ]
  },
  {
   "cell_type": "code",
   "execution_count": 45,
   "id": "3c557440",
   "metadata": {},
   "outputs": [
    {
     "data": {
      "text/plain": [
       "2    26000.0\n",
       "3     6500.0\n",
       "6     8000.0\n",
       "Name: Rent, dtype: float64"
      ]
     },
     "execution_count": 45,
     "metadata": {},
     "output_type": "execute_result"
    }
   ],
   "source": [
    "y = df8['Rent']\n",
    "y.head(3)"
   ]
  },
  {
   "cell_type": "code",
   "execution_count": 46,
   "id": "55ba95a1",
   "metadata": {},
   "outputs": [],
   "source": [
    "from sklearn.model_selection import train_test_split\n",
    "from sklearn.metrics import accuracy_score\n",
    "x_train,x_test,y_train,y_test=train_test_split(X,y,test_size=0.2,random_state=2)"
   ]
  },
  {
   "cell_type": "code",
   "execution_count": 47,
   "id": "ab936790",
   "metadata": {},
   "outputs": [
    {
     "data": {
      "text/plain": [
       "XGBRegressor(base_score=0.5, booster='gbtree', callbacks=None,\n",
       "             colsample_bylevel=1, colsample_bynode=1, colsample_bytree=1,\n",
       "             early_stopping_rounds=None, enable_categorical=False,\n",
       "             eval_metric=None, gamma=0, gpu_id=-1, grow_policy='depthwise',\n",
       "             importance_type=None, interaction_constraints='',\n",
       "             learning_rate=0.300000012, max_bin=256, max_cat_to_onehot=4,\n",
       "             max_delta_step=0, max_depth=6, max_leaves=0, min_child_weight=1,\n",
       "             missing=nan, monotone_constraints='()', n_estimators=100, n_jobs=0,\n",
       "             num_parallel_tree=1, predictor='auto', random_state=0, reg_alpha=0,\n",
       "             reg_lambda=1, ...)"
      ]
     },
     "execution_count": 47,
     "metadata": {},
     "output_type": "execute_result"
    }
   ],
   "source": [
    "from xgboost import XGBRegressor\n",
    "model=XGBRegressor()\n",
    "model.fit(x_train, y_train)"
   ]
  },
  {
   "cell_type": "code",
   "execution_count": 48,
   "id": "e6a26b72",
   "metadata": {},
   "outputs": [
    {
     "data": {
      "text/plain": [
       "array([25250.615 , 70304.98  , 10694.764 , ..., 84371.68  , 13670.491 ,\n",
       "        7758.5425], dtype=float32)"
      ]
     },
     "execution_count": 48,
     "metadata": {},
     "output_type": "execute_result"
    }
   ],
   "source": [
    "#accuracy\n",
    "training_data_predict=model.predict(x_train)\n",
    "training_data_predict"
   ]
  },
  {
   "cell_type": "code",
   "execution_count": 49,
   "id": "d7b42318",
   "metadata": {},
   "outputs": [
    {
     "name": "stdout",
     "output_type": "stream",
     "text": [
      "r score 0.9938704139115808\n",
      "mean absolute error 2373.3465503661446\n"
     ]
    }
   ],
   "source": [
    "from sklearn import metrics\n",
    "score=metrics.r2_score(y_train, training_data_predict)\n",
    "score2=metrics.mean_absolute_error(y_train, training_data_predict)\n",
    "print(\"r score\",score)\n",
    "print(\"mean absolute error\", score2)"
   ]
  },
  {
   "cell_type": "code",
   "execution_count": 50,
   "id": "fbb6e5a6",
   "metadata": {},
   "outputs": [],
   "source": [
    "test_data_predict=model.predict(x_test)"
   ]
  },
  {
   "cell_type": "code",
   "execution_count": 51,
   "id": "363520d6",
   "metadata": {},
   "outputs": [
    {
     "name": "stdout",
     "output_type": "stream",
     "text": [
      "r score 0.6753299295941861\n",
      "mean absolute error 8893.037827967559\n"
     ]
    }
   ],
   "source": [
    "score=metrics.r2_score(y_test, test_data_predict)\n",
    "score2=metrics.mean_absolute_error(y_test, test_data_predict)\n",
    "print(\"r score\",score)\n",
    "print(\"mean absolute error\", score2)"
   ]
  },
  {
   "cell_type": "code",
   "execution_count": 52,
   "id": "e4bf000f",
   "metadata": {},
   "outputs": [
    {
     "data": {
      "image/png": "[encoded data removed]",
      "text/plain": [
       "<Figure size 1008x576 with 1 Axes>"
      ]
     },
     "metadata": {
      "needs_background": "light"
     },
     "output_type": "display_data"
    }
   ],
   "source": [
    "matplotlib.rcParams['figure.figsize'] = (14,8)\n",
    "plt.scatter(y_train, training_data_predict)\n",
    "plt.xlabel(\"Actual Rent\")\n",
    "plt.ylabel(\"Predicted Rent\")\n",
    "plt.title(\"Actual Rent V Predicted Rent\")\n",
    "plt.show()"
   ]
  },
  {
   "cell_type": "code",
   "execution_count": 53,
   "id": "6a03fb8b",
   "metadata": {},
   "outputs": [
    {
     "data": {
      "text/html": [
       "<div>\n",
       "<style scoped>\n",
       "    .dataframe tbody tr th:only-of-type {\n",
       "        vertical-align: middle;\n",
       "    }\n",
       "\n",
       "    .dataframe tbody tr th {\n",
       "        vertical-align: top;\n",
       "    }\n",
       "\n",
       "    .dataframe thead th {\n",
       "        text-align: right;\n",
       "    }\n",
       "</style>\n",
       "<table border=\"1\" class=\"dataframe\">\n",
       "  <thead>\n",
       "    <tr style=\"text-align: right;\">\n",
       "      <th></th>\n",
       "      <th>BHK</th>\n",
       "      <th>Size</th>\n",
       "      <th>Bathroom</th>\n",
       "      <th>region</th>\n",
       "      <th>Furnishing</th>\n",
       "      <th>A_Type</th>\n",
       "    </tr>\n",
       "  </thead>\n",
       "  <tbody>\n",
       "    <tr>\n",
       "      <th>1793</th>\n",
       "      <td>2</td>\n",
       "      <td>1150</td>\n",
       "      <td>2</td>\n",
       "      <td>11</td>\n",
       "      <td>2</td>\n",
       "      <td>2</td>\n",
       "    </tr>\n",
       "    <tr>\n",
       "      <th>1134</th>\n",
       "      <td>2</td>\n",
       "      <td>800</td>\n",
       "      <td>2</td>\n",
       "      <td>8</td>\n",
       "      <td>2</td>\n",
       "      <td>2</td>\n",
       "    </tr>\n",
       "  </tbody>\n",
       "</table>\n",
       "</div>"
      ],
      "text/plain": [
       "      BHK  Size  Bathroom  region  Furnishing  A_Type\n",
       "1793    2  1150         2      11           2       2\n",
       "1134    2   800         2       8           2       2"
      ]
     },
     "execution_count": 53,
     "metadata": {},
     "output_type": "execute_result"
    }
   ],
   "source": [
    "#accuracy\n",
    "x_train.head(2)\n",
    "#training_data_predict=model.predict(x_train)\n",
    "#training_data_predict"
   ]
  },
  {
   "cell_type": "code",
   "execution_count": 54,
   "id": "d9e0aff5",
   "metadata": {},
   "outputs": [
    {
     "data": {
      "text/html": [
       "<div>\n",
       "<style scoped>\n",
       "    .dataframe tbody tr th:only-of-type {\n",
       "        vertical-align: middle;\n",
       "    }\n",
       "\n",
       "    .dataframe tbody tr th {\n",
       "        vertical-align: top;\n",
       "    }\n",
       "\n",
       "    .dataframe thead th {\n",
       "        text-align: right;\n",
       "    }\n",
       "</style>\n",
       "<table border=\"1\" class=\"dataframe\">\n",
       "  <thead>\n",
       "    <tr style=\"text-align: right;\">\n",
       "      <th></th>\n",
       "      <th>BHK</th>\n",
       "      <th>Size</th>\n",
       "      <th>Bathroom</th>\n",
       "      <th>region</th>\n",
       "      <th>Furnishing</th>\n",
       "      <th>A_Type</th>\n",
       "    </tr>\n",
       "  </thead>\n",
       "  <tbody>\n",
       "    <tr>\n",
       "      <th>0</th>\n",
       "      <td>2</td>\n",
       "      <td>600</td>\n",
       "      <td>2</td>\n",
       "      <td>2</td>\n",
       "      <td>1</td>\n",
       "      <td>1</td>\n",
       "    </tr>\n",
       "  </tbody>\n",
       "</table>\n",
       "</div>"
      ],
      "text/plain": [
       "   BHK  Size  Bathroom  region  Furnishing  A_Type\n",
       "0    2   600         2       2           1       1"
      ]
     },
     "execution_count": 54,
     "metadata": {},
     "output_type": "execute_result"
    }
   ],
   "source": [
    "#data we want to predict 2bhk 600 size 2 bathroom region =kikumikikumi kalkota furnishing=un-funished areatype=super area\n",
    "data=[[2,600,2,2,1,1]]\n",
    "df9=pd.DataFrame(data,columns=['BHK','Size','Bathroom','region','Furnishing','A_Type'])\n",
    "df9"
   ]
  },
  {
   "cell_type": "code",
   "execution_count": 55,
   "id": "a8f33660",
   "metadata": {},
   "outputs": [
    {
     "data": {
      "text/plain": [
       "array([8479.176], dtype=float32)"
      ]
     },
     "execution_count": 55,
     "metadata": {},
     "output_type": "execute_result"
    }
   ],
   "source": [
    "training_data_predict=model.predict(df9)\n",
    "training_data_predict\n",
    "#actual value =7000\n",
    "#predicted value=8400"
   ]
  },
  {
   "cell_type": "code",
   "execution_count": 56,
   "id": "004d2d68",
   "metadata": {},
   "outputs": [],
   "source": [
    "# Note:\n",
    "#1 regoins range from 1-24\n",
    "#2 area type range from 1-3 with 1 being super, 3 \n",
    "#furnished range from 1-3"
   ]
  },
  {
   "cell_type": "code",
   "execution_count": 57,
   "id": "d04a8717",
   "metadata": {},
   "outputs": [
    {
     "data": {
      "text/plain": [
       "array([21772.91], dtype=float32)"
      ]
     },
     "execution_count": 57,
     "metadata": {},
     "output_type": "execute_result"
    }
   ],
   "source": [
    "#data we want to predict 3bhk 1200 size 2 bathroom region =wandegeya kalkota furnishing=semi-funished areatype=carpet area\n",
    "\n",
    "data=[[3,1200,2,3,2,2]]\n",
    "df9=pd.DataFrame(data,columns=['BHK','Size','Bathroom','region','Furnishing','A_Type'])\n",
    "training_data_predict=model.predict(df9)\n",
    "training_data_predict\n",
    "#actual value = 25000\n",
    "#predicted value= 21000"
   ]
  },
  {
   "cell_type": "code",
   "execution_count": 58,
   "id": "0b342ecd",
   "metadata": {},
   "outputs": [
    {
     "data": {
      "text/plain": [
       "array([33434.77], dtype=float32)"
      ]
     },
     "execution_count": 58,
     "metadata": {},
     "output_type": "execute_result"
    }
   ],
   "source": [
    "#data we want to predict 3bhk 1286 size 2 bathroom region =Nakulabya kalkota furnishing=funished areatype=carpet area\n",
    "\n",
    "data=[[3,1286,2,4,3,2]]\n",
    "df9=pd.DataFrame(data,columns=['BHK','Size','Bathroom','region','Furnishing','A_Type'])\n",
    "training_data_predict=model.predict(df9)\n",
    "training_data_predict\n",
    "#actual value = 40000\n",
    "#predicted value 33000"
   ]
  },
  {
   "cell_type": "code",
   "execution_count": 59,
   "id": "7c97a173",
   "metadata": {},
   "outputs": [],
   "source": [
    "#check how given data affects rent in given areas\n",
    "#i.e determine which region has highest rent and which has lowest rent\n",
    "#why that region has higher rent than other regions"
   ]
  },
  {
   "cell_type": "code",
   "execution_count": 60,
   "id": "0a4d3224",
   "metadata": {},
   "outputs": [
    {
     "data": {
      "text/html": [
       "<div>\n",
       "<style scoped>\n",
       "    .dataframe tbody tr th:only-of-type {\n",
       "        vertical-align: middle;\n",
       "    }\n",
       "\n",
       "    .dataframe tbody tr th {\n",
       "        vertical-align: top;\n",
       "    }\n",
       "\n",
       "    .dataframe thead th {\n",
       "        text-align: right;\n",
       "    }\n",
       "</style>\n",
       "<table border=\"1\" class=\"dataframe\">\n",
       "  <thead>\n",
       "    <tr style=\"text-align: right;\">\n",
       "      <th></th>\n",
       "      <th>region</th>\n",
       "      <th>av_rent</th>\n",
       "    </tr>\n",
       "  </thead>\n",
       "  <tbody>\n",
       "    <tr>\n",
       "      <th>0</th>\n",
       "      <td>1</td>\n",
       "      <td>13143.548387</td>\n",
       "    </tr>\n",
       "    <tr>\n",
       "      <th>1</th>\n",
       "      <td>2</td>\n",
       "      <td>14464.830508</td>\n",
       "    </tr>\n",
       "    <tr>\n",
       "      <th>2</th>\n",
       "      <td>3</td>\n",
       "      <td>12901.562500</td>\n",
       "    </tr>\n",
       "  </tbody>\n",
       "</table>\n",
       "</div>"
      ],
      "text/plain": [
       "   region       av_rent\n",
       "0       1  13143.548387\n",
       "1       2  14464.830508\n",
       "2       3  12901.562500"
      ]
     },
     "execution_count": 60,
     "metadata": {},
     "output_type": "execute_result"
    }
   ],
   "source": [
    "def mymean(df,region):\n",
    "    df1=df[df['region']==region]\n",
    "    return np.mean(df1['Rent'])\n",
    "    \n",
    "mylist=[]\n",
    "for i in range(1,25):\n",
    "    mylist.append(mymean(df8,i))\n",
    "    \n",
    "mylist2=[]  \n",
    "for i in range(1,25):\n",
    "    mylist2.append(i)\n",
    "mylist2   \n",
    "df10=pd.DataFrame(mylist2,columns=['region'])\n",
    "\n",
    "df10['av_rent']=mylist\n",
    "df10.head(3)\n",
    "    "
   ]
  },
  {
   "cell_type": "code",
   "execution_count": 61,
   "id": "207e4053",
   "metadata": {},
   "outputs": [
    {
     "data": {
      "text/plain": [
       "<function matplotlib.pyplot.show(close=None, block=None)>"
      ]
     },
     "execution_count": 61,
     "metadata": {},
     "output_type": "execute_result"
    },
    {
     "data": {
      "image/png": "[encoded data removed]",
      "text/plain": [
       "<Figure size 1008x576 with 1 Axes>"
      ]
     },
     "metadata": {
      "needs_background": "light"
     },
     "output_type": "display_data"
    }
   ],
   "source": [
    "plt.bar(df10.region,df10.av_rent)\n",
    "plt.xlabel('Region')\n",
    "plt.ylabel('Average Rent')\n",
    "plt.show"
   ]
  },
  {
   "cell_type": "code",
   "execution_count": 80,
   "id": "09786900",
   "metadata": {},
   "outputs": [
    {
     "name": "stdout",
     "output_type": "stream",
     "text": [
      "['KikoniMumbai']\n"
     ]
    }
   ],
   "source": [
    "#function to help us identify regions in bar graph; enter region number from bar graph to get region name \n",
    "def returnlocation(df,region):\n",
    "    locations=df[df['region']==region]\n",
    "    location=locations['location'].unique()\n",
    "    return location\n",
    "# print(returnlocation(df,1))\n",
    "# print(returnlocation(df,5))\n",
    "# print(returnlocation(df,9))\n",
    "# print(returnlocation(df,13))\n",
    "# print(returnlocation(df,17))\n",
    "# print(returnlocation(df,24))\n",
    "print(returnlocation(df,5))\n",
    "#mumbai has highest  mean rent\n",
    "#kolkata has lowest  mean rent"
   ]
  },
  {
   "cell_type": "code",
   "execution_count": 63,
   "id": "4a87212d",
   "metadata": {},
   "outputs": [
    {
     "data": {
      "text/html": [
       "<div>\n",
       "<style scoped>\n",
       "    .dataframe tbody tr th:only-of-type {\n",
       "        vertical-align: middle;\n",
       "    }\n",
       "\n",
       "    .dataframe tbody tr th {\n",
       "        vertical-align: top;\n",
       "    }\n",
       "\n",
       "    .dataframe thead th {\n",
       "        text-align: right;\n",
       "    }\n",
       "</style>\n",
       "<table border=\"1\" class=\"dataframe\">\n",
       "  <thead>\n",
       "    <tr style=\"text-align: right;\">\n",
       "      <th></th>\n",
       "      <th>Posted On</th>\n",
       "      <th>BHK</th>\n",
       "      <th>Rent</th>\n",
       "      <th>Size</th>\n",
       "      <th>Floor</th>\n",
       "      <th>Area Type</th>\n",
       "      <th>Area Locality</th>\n",
       "      <th>City</th>\n",
       "      <th>Furnishing Status</th>\n",
       "      <th>Tenant Preferred</th>\n",
       "      <th>Bathroom</th>\n",
       "      <th>Point of Contact</th>\n",
       "      <th>location</th>\n",
       "      <th>region</th>\n",
       "    </tr>\n",
       "  </thead>\n",
       "  <tbody>\n",
       "    <tr>\n",
       "      <th>0</th>\n",
       "      <td>5/18/2022</td>\n",
       "      <td>2</td>\n",
       "      <td>10000.0</td>\n",
       "      <td>1100</td>\n",
       "      <td>Ground out of 2</td>\n",
       "      <td>Super Area</td>\n",
       "      <td>Kikoni</td>\n",
       "      <td>Kolkata</td>\n",
       "      <td>Unfurnished</td>\n",
       "      <td>Bachelors/Family</td>\n",
       "      <td>2</td>\n",
       "      <td>Contact Owner</td>\n",
       "      <td>KikoniKolkata</td>\n",
       "      <td>1</td>\n",
       "    </tr>\n",
       "    <tr>\n",
       "      <th>1</th>\n",
       "      <td>5/13/2022</td>\n",
       "      <td>2</td>\n",
       "      <td>20000.0</td>\n",
       "      <td>800</td>\n",
       "      <td>1 out of 3</td>\n",
       "      <td>Super Area</td>\n",
       "      <td>Kikumikumi</td>\n",
       "      <td>Kolkata</td>\n",
       "      <td>Semi-Furnished</td>\n",
       "      <td>Bachelors/Family</td>\n",
       "      <td>1</td>\n",
       "      <td>Contact Owner</td>\n",
       "      <td>KikumikumiKolkata</td>\n",
       "      <td>2</td>\n",
       "    </tr>\n",
       "    <tr>\n",
       "      <th>2</th>\n",
       "      <td>5/16/2022</td>\n",
       "      <td>2</td>\n",
       "      <td>17000.0</td>\n",
       "      <td>1000</td>\n",
       "      <td>1 out of 3</td>\n",
       "      <td>Super Area</td>\n",
       "      <td>Wandegya</td>\n",
       "      <td>Kolkata</td>\n",
       "      <td>Semi-Furnished</td>\n",
       "      <td>Bachelors/Family</td>\n",
       "      <td>1</td>\n",
       "      <td>Contact Owner</td>\n",
       "      <td>WandegyaKolkata</td>\n",
       "      <td>3</td>\n",
       "    </tr>\n",
       "    <tr>\n",
       "      <th>3</th>\n",
       "      <td>7/4/2022</td>\n",
       "      <td>2</td>\n",
       "      <td>10000.0</td>\n",
       "      <td>800</td>\n",
       "      <td>1 out of 2</td>\n",
       "      <td>Super Area</td>\n",
       "      <td>Nakulubya</td>\n",
       "      <td>Kolkata</td>\n",
       "      <td>Unfurnished</td>\n",
       "      <td>Bachelors/Family</td>\n",
       "      <td>1</td>\n",
       "      <td>Contact Owner</td>\n",
       "      <td>NakulubyaKolkata</td>\n",
       "      <td>4</td>\n",
       "    </tr>\n",
       "    <tr>\n",
       "      <th>4</th>\n",
       "      <td>5/9/2022</td>\n",
       "      <td>2</td>\n",
       "      <td>7500.0</td>\n",
       "      <td>850</td>\n",
       "      <td>1 out of 2</td>\n",
       "      <td>Carpet Area</td>\n",
       "      <td>Kikoni</td>\n",
       "      <td>Kolkata</td>\n",
       "      <td>Unfurnished</td>\n",
       "      <td>Bachelors</td>\n",
       "      <td>1</td>\n",
       "      <td>Contact Owner</td>\n",
       "      <td>KikoniKolkata</td>\n",
       "      <td>1</td>\n",
       "    </tr>\n",
       "  </tbody>\n",
       "</table>\n",
       "</div>"
      ],
      "text/plain": [
       "   Posted On  BHK     Rent  Size            Floor    Area Type Area Locality  \\\n",
       "0  5/18/2022    2  10000.0  1100  Ground out of 2   Super Area        Kikoni   \n",
       "1  5/13/2022    2  20000.0   800       1 out of 3   Super Area    Kikumikumi   \n",
       "2  5/16/2022    2  17000.0  1000       1 out of 3   Super Area      Wandegya   \n",
       "3   7/4/2022    2  10000.0   800       1 out of 2   Super Area     Nakulubya   \n",
       "4   5/9/2022    2   7500.0   850       1 out of 2  Carpet Area        Kikoni   \n",
       "\n",
       "      City Furnishing Status  Tenant Preferred  Bathroom Point of Contact  \\\n",
       "0  Kolkata       Unfurnished  Bachelors/Family         2    Contact Owner   \n",
       "1  Kolkata    Semi-Furnished  Bachelors/Family         1    Contact Owner   \n",
       "2  Kolkata    Semi-Furnished  Bachelors/Family         1    Contact Owner   \n",
       "3  Kolkata       Unfurnished  Bachelors/Family         1    Contact Owner   \n",
       "4  Kolkata       Unfurnished         Bachelors         1    Contact Owner   \n",
       "\n",
       "            location  region  \n",
       "0      KikoniKolkata       1  \n",
       "1  KikumikumiKolkata       2  \n",
       "2    WandegyaKolkata       3  \n",
       "3   NakulubyaKolkata       4  \n",
       "4      KikoniKolkata       1  "
      ]
     },
     "execution_count": 63,
     "metadata": {},
     "output_type": "execute_result"
    }
   ],
   "source": [
    "df.head(5)"
   ]
  },
  {
   "cell_type": "code",
   "execution_count": 78,
   "id": "441349b6",
   "metadata": {},
   "outputs": [
    {
     "name": "stdout",
     "output_type": "stream",
     "text": [
      "Kolkata  Average BHK:  1.6290322580645162  Average size:  665.1451612903226  Average bathroom:  1.3548387096774193\n",
      "Mumbai  Average BHK:  1.837037037037037  Average size:  754.9407407407407  Average bathroom:  2.0592592592592593\n"
     ]
    }
   ],
   "source": [
    "def av_bhk(df,region):\n",
    "    df1=df[df['region']==region]\n",
    "    return np.mean(df1['BHK'])\n",
    "def av_size(df,region):\n",
    "    df1=df[df['region']==region]\n",
    "    return np.mean(df1['Size'])\n",
    "    \n",
    "def av_bathroom(df,region):\n",
    "    df1=df[df['region']==region]\n",
    "    return np.mean(df1['Bathroom'])\n",
    "        \n",
    "print('Kolkata ','Average BHK: ',av_bhk(df8,1),' Average size: ',av_size(df8,1),' Average bathroom: ',av_bathroom(df8,1))  \n",
    "print('Mumbai ','Average BHK: ',av_bhk(df8,5),' Average size: ',av_size(df8,5),' Average bathroom: ',av_bathroom(df8,5))  "
   ]
  },
  {
   "cell_type": "code",
   "execution_count": 65,
   "id": "7feaa6bf",
   "metadata": {},
   "outputs": [],
   "source": [
    "#as we can see areas of mumbai have higher BHK, size, bathroom thus higher price"
   ]
  },
  {
   "cell_type": "code",
   "execution_count": 79,
   "id": "09d433b3",
   "metadata": {},
   "outputs": [
    {
     "name": "stdout",
     "output_type": "stream",
     "text": [
      "Kolkata  Super Area:  24  Carpet Area:  38  Built Area:  0\n",
      "Mumbai  Super Area:  27  Carpet Area:  108  Built Area:  0\n"
     ]
    }
   ],
   "source": [
    "#area type\n",
    "def mycount(df, region):\n",
    "    df1=df[(df['region']==region)&(df['A_Type']==1)]\n",
    "    return len(df1)\n",
    "def mycount2(df, region):\n",
    "    df1=df[(df['region']==region)&(df['A_Type']==2)]\n",
    "    return len(df1)\n",
    "def mycount3(df, region):\n",
    "    df1=df[(df['region']==region)&(df['A_Type']==3)]\n",
    "    return len(df1)\n",
    "print('Kolkata ','Super Area: ',mycount(df8,1),' Carpet Area: ', mycount2(df8,1), ' Built Area: ', mycount3(df8,1))\n",
    "print('Mumbai ','Super Area: ',mycount(df8,5),' Carpet Area: ', mycount2(df8,5), ' Built Area: ', mycount3(df8,5))"
   ]
  },
  {
   "cell_type": "code",
   "execution_count": 67,
   "id": "fc0deda6",
   "metadata": {},
   "outputs": [
    {
     "data": {
      "text/plain": [
       "Index(['BHK', 'Rent', 'Size', 'Tenant Preferred', 'Bathroom', 'region',\n",
       "       'Furnishing', 'A_Type', 'rent_per_size'],\n",
       "      dtype='object')"
      ]
     },
     "execution_count": 67,
     "metadata": {},
     "output_type": "execute_result"
    }
   ],
   "source": [
    "df8.columns"
   ]
  },
  {
   "cell_type": "code",
   "execution_count": 68,
   "id": "cfb1da49",
   "metadata": {},
   "outputs": [
    {
     "name": "stdout",
     "output_type": "stream",
     "text": [
      "kolkata  Super Area:  10537.5  Carpet Area:  14789.473684210527  Built Area:  nan\n",
      "Mumbai  Super Area:  30888.88888888889  Carpet Area:  68828.68518518518  Built Area:  nan\n"
     ]
    }
   ],
   "source": [
    "def rentForAreaType1(df,region):\n",
    "    df1=df[(df['region']==region)&(df['A_Type']==1)]\n",
    "    meanrent=np.mean(df1.Rent)\n",
    "    return meanrent\n",
    "def rentForAreaType2(df,region):\n",
    "    df1=df[(df['region']==region)&(df['A_Type']==2)]\n",
    "    meanrent=np.mean(df1.Rent)\n",
    "    return meanrent\n",
    "def rentForAreaType3(df,region):\n",
    "    df1=df[(df['region']==region)&(df['A_Type']==3)]\n",
    "    meanrent=np.mean(df1.Rent)\n",
    "    return meanrent\n",
    "print('Kolkata ','Super Area: ',rentForAreaType1(df8,1),' Carpet Area: ', rentForAreaType2(df8,1), ' Built Area: ', rentForAreaType3(df8,1))\n",
    "print('Mumbai ','Super Area: ',rentForAreaType1(df8,5),' Carpet Area: ', rentForAreaType2(df8,5), ' Built Area: ', rentForAreaType3(df8,5))"
   ]
  },
  {
   "cell_type": "code",
   "execution_count": 69,
   "id": "5bcef6ba",
   "metadata": {},
   "outputs": [],
   "source": [
    "#super area have higher mean rent than carpet area Mumbai has more super area than Kolkata thus higher mean rent"
   ]
  },
  {
   "cell_type": "code",
   "execution_count": 70,
   "id": "bbf60bac",
   "metadata": {},
   "outputs": [
    {
     "name": "stdout",
     "output_type": "stream",
     "text": [
      "kolkata  Un-Furnished:  42  Semi-Furnished:  15  Furnished:  5\n",
      "Mumbai  Un-Furnished:  49  Semi-Furnished:  59  Furnished:  27\n"
     ]
    }
   ],
   "source": [
    "#area Furnishing\n",
    "def mycount(df, region):\n",
    "    df1=df[(df['region']==region)&(df['Furnishing']==1)]\n",
    "    return len(df1)\n",
    "def mycount2(df, region):\n",
    "    df1=df[(df['region']==region)&(df['Furnishing']==2)]\n",
    "    return len(df1)\n",
    "def mycount3(df, region):\n",
    "    df1=df[(df['region']==region)&(df['Furnishing']==3)]\n",
    "    return len(df1)\n",
    "print('Kolkata ','Un-Furnished: ',mycount(df8,1),' Semi-Furnished: ', mycount2(df8,1), ' Furnished: ', mycount3(df8,1))\n",
    "print('Mumbai ','Un-Furnished: ',mycount(df8,5),' Semi-Furnished: ', mycount2(df8,5), ' Furnished: ', mycount3(df8,5))"
   ]
  },
  {
   "cell_type": "code",
   "execution_count": 71,
   "id": "e18f7a7e",
   "metadata": {},
   "outputs": [
    {
     "name": "stdout",
     "output_type": "stream",
     "text": [
      "kolkata   Unfurnished:  14397.619047619048  Semifurnished:  11166.666666666666  Furnished:  8540.0\n",
      "Mumbai  Unfurnished:  46316.28571428572  Semifurnished:  65177.96610169492  Furnished:  79722.22222222222\n"
     ]
    }
   ],
   "source": [
    "def rentForUnFurnished(df,region):\n",
    "    df1=df[(df['region']==region)&(df['Furnishing']==1)]\n",
    "    meanrent=np.mean(df1.Rent)\n",
    "    return meanrent\n",
    "def rentForSemiFurnished(df,region):\n",
    "    df1=df[(df['region']==region)&(df['Furnishing']==2)]\n",
    "    meanrent=np.mean(df1.Rent)\n",
    "    return meanrent\n",
    "def rentForFunished(df,region):\n",
    "    df1=df[(df['region']==region)&(df['Furnishing']==3)]\n",
    "    meanrent=np.mean(df1.Rent)\n",
    "    return meanrent\n",
    "print('Kolkata ',' Unfurnished: ',rentForUnFurnished(df8,1),' Semifurnished: ', rentForSemiFurnished(df8,1), ' Furnished: ',rentForFunished(df8,1))\n",
    "print('Mumbai ','Unfurnished: ',rentForUnFurnished(df8,5),' Semifurnished: ',rentForSemiFurnished(df8,5), ' Furnished: ',rentForFunished(df8,5))"
   ]
  },
  {
   "cell_type": "code",
   "execution_count": 72,
   "id": "447e07b5",
   "metadata": {},
   "outputs": [],
   "source": [
    "# unfurnished has higher mean rent than semi-furnshed since mumbai has greater for all values this leads to higher mean rent"
   ]
  },
  {
   "cell_type": "code",
   "execution_count": 73,
   "id": "ae5d124b",
   "metadata": {},
   "outputs": [
    {
     "data": {
      "text/html": [
       "<div>\n",
       "<style scoped>\n",
       "    .dataframe tbody tr th:only-of-type {\n",
       "        vertical-align: middle;\n",
       "    }\n",
       "\n",
       "    .dataframe tbody tr th {\n",
       "        vertical-align: top;\n",
       "    }\n",
       "\n",
       "    .dataframe thead th {\n",
       "        text-align: right;\n",
       "    }\n",
       "</style>\n",
       "<table border=\"1\" class=\"dataframe\">\n",
       "  <thead>\n",
       "    <tr style=\"text-align: right;\">\n",
       "      <th></th>\n",
       "      <th>BHK</th>\n",
       "      <th>Rent</th>\n",
       "      <th>Size</th>\n",
       "      <th>Tenant Preferred</th>\n",
       "      <th>Bathroom</th>\n",
       "      <th>region</th>\n",
       "      <th>Furnishing</th>\n",
       "      <th>A_Type</th>\n",
       "      <th>rent_per_size</th>\n",
       "      <th>City</th>\n",
       "    </tr>\n",
       "  </thead>\n",
       "  <tbody>\n",
       "    <tr>\n",
       "      <th>2</th>\n",
       "      <td>2</td>\n",
       "      <td>26000.0</td>\n",
       "      <td>800</td>\n",
       "      <td>Bachelors</td>\n",
       "      <td>2</td>\n",
       "      <td>1</td>\n",
       "      <td>1</td>\n",
       "      <td>2</td>\n",
       "      <td>32.5</td>\n",
       "      <td>Kolkata</td>\n",
       "    </tr>\n",
       "    <tr>\n",
       "      <th>3</th>\n",
       "      <td>1</td>\n",
       "      <td>6500.0</td>\n",
       "      <td>250</td>\n",
       "      <td>Bachelors</td>\n",
       "      <td>1</td>\n",
       "      <td>1</td>\n",
       "      <td>3</td>\n",
       "      <td>2</td>\n",
       "      <td>26.0</td>\n",
       "      <td>Kolkata</td>\n",
       "    </tr>\n",
       "    <tr>\n",
       "      <th>6</th>\n",
       "      <td>1</td>\n",
       "      <td>8000.0</td>\n",
       "      <td>400</td>\n",
       "      <td>Bachelors</td>\n",
       "      <td>1</td>\n",
       "      <td>1</td>\n",
       "      <td>2</td>\n",
       "      <td>1</td>\n",
       "      <td>20.0</td>\n",
       "      <td>Kolkata</td>\n",
       "    </tr>\n",
       "  </tbody>\n",
       "</table>\n",
       "</div>"
      ],
      "text/plain": [
       "   BHK     Rent  Size Tenant Preferred  Bathroom  region  Furnishing  A_Type  \\\n",
       "2    2  26000.0   800        Bachelors         2       1           1       2   \n",
       "3    1   6500.0   250        Bachelors         1       1           3       2   \n",
       "6    1   8000.0   400        Bachelors         1       1           2       1   \n",
       "\n",
       "   rent_per_size     City  \n",
       "2           32.5  Kolkata  \n",
       "3           26.0  Kolkata  \n",
       "6           20.0  Kolkata  "
      ]
     },
     "execution_count": 73,
     "metadata": {},
     "output_type": "execute_result"
    }
   ],
   "source": [
    "#give ids to locations\n",
    "def giveCity(x):\n",
    "    if x==1:\n",
    "        return 'Kolkata'\n",
    "    if x==2:\n",
    "        return 'Kolkata'\n",
    "    if x==3:\n",
    "        return 'Kolkata'\n",
    "    if x==4:\n",
    "        return 'Kolkata'\n",
    "    if x==5:\n",
    "        return 'Mumbai'\n",
    "    if x==6:\n",
    "        return 'Mumbai'\n",
    "    if x==7:\n",
    "        return 'Mumbai'\n",
    "    if x==8:\n",
    "        return 'Mumbai'\n",
    "    if x==9:\n",
    "        return 'Bangalore'\n",
    "    if x==10:\n",
    "        return 'Bangalore'\n",
    "    if x==11:\n",
    "        return 'Bangalore'\n",
    "    if x==12:\n",
    "        return 'Bangalore'\n",
    "    if x==13:\n",
    "        return 'Delhi'\n",
    "    if x==14:\n",
    "        return 'Delhi'\n",
    "    if x==15:\n",
    "        return 'Delhi'\n",
    "    if x==16:\n",
    "        return 'Delhi'\n",
    "    if x==17:\n",
    "        return 'Chennai'\n",
    "    if x==18:\n",
    "        return 'Chennai'\n",
    "    if x==19:\n",
    "        return 'Chennai'\n",
    "    if x==20:\n",
    "        return 'Chennai'\n",
    "    if x==21:\n",
    "        return 'Hyderabad'\n",
    "    if x==22:\n",
    "        return 'Hyderabad'\n",
    "    if x==23:\n",
    "        return 'Hyderabad'\n",
    "    if x==24:\n",
    "        return 'Hyderabad'\n",
    "df8['City']=df8['region'].apply(giveCity)\n",
    "df8.head(3)"
   ]
  },
  {
   "cell_type": "code",
   "execution_count": 74,
   "id": "6a168ade",
   "metadata": {},
   "outputs": [
    {
     "data": {
      "text/html": [
       "<div>\n",
       "<style scoped>\n",
       "    .dataframe tbody tr th:only-of-type {\n",
       "        vertical-align: middle;\n",
       "    }\n",
       "\n",
       "    .dataframe tbody tr th {\n",
       "        vertical-align: top;\n",
       "    }\n",
       "\n",
       "    .dataframe thead th {\n",
       "        text-align: right;\n",
       "    }\n",
       "</style>\n",
       "<table border=\"1\" class=\"dataframe\">\n",
       "  <thead>\n",
       "    <tr style=\"text-align: right;\">\n",
       "      <th></th>\n",
       "      <th>City</th>\n",
       "      <th>av_rent</th>\n",
       "    </tr>\n",
       "  </thead>\n",
       "  <tbody>\n",
       "    <tr>\n",
       "      <th>0</th>\n",
       "      <td>Kolkata</td>\n",
       "      <td>12732.187500</td>\n",
       "    </tr>\n",
       "    <tr>\n",
       "      <th>1</th>\n",
       "      <td>Mumbai</td>\n",
       "      <td>73502.157588</td>\n",
       "    </tr>\n",
       "    <tr>\n",
       "      <th>2</th>\n",
       "      <td>Bangalore</td>\n",
       "      <td>19997.363839</td>\n",
       "    </tr>\n",
       "  </tbody>\n",
       "</table>\n",
       "</div>"
      ],
      "text/plain": [
       "        City       av_rent\n",
       "0    Kolkata  12732.187500\n",
       "1     Mumbai  73502.157588\n",
       "2  Bangalore  19997.363839"
      ]
     },
     "execution_count": 74,
     "metadata": {},
     "output_type": "execute_result"
    }
   ],
   "source": [
    "def mymean(df,city):\n",
    "    df1=df[df['City']==city]\n",
    "    return np.mean(df1['Rent'])\n",
    "    \n",
    "mylist=[]\n",
    "mylist.append('Kolkata')\n",
    "mylist.append('Mumbai')\n",
    "mylist.append('Bangalore')\n",
    "mylist.append('Delhi')\n",
    "mylist.append('Chennai')\n",
    "mylist.append('Hyderabad')\n",
    "   \n",
    "mylist2=[]  \n",
    "mylist2.append(mymean(df8,'Kolkata'))\n",
    "mylist2.append(mymean(df8,'Mumbai'))\n",
    "mylist2.append(mymean(df8,'Bangalore'))\n",
    "mylist2.append(mymean(df8,'Delhi'))\n",
    "mylist2.append(mymean(df8,'Chennai'))\n",
    "mylist2.append(mymean(df8,'Hyderabad'))\n",
    "df10=pd.DataFrame(mylist,columns=['City'])\n",
    "\n",
    "df10['av_rent']=mylist2\n",
    "df10.head(3)"
   ]
  },
  {
   "cell_type": "code",
   "execution_count": 75,
   "id": "aec38c04",
   "metadata": {},
   "outputs": [
    {
     "data": {
      "text/plain": [
       "<function matplotlib.pyplot.show(close=None, block=None)>"
      ]
     },
     "execution_count": 75,
     "metadata": {},
     "output_type": "execute_result"
    },
    {
     "data": {
      "image/png": "[encoded data removed]",
      "text/plain": [
       "<Figure size 1008x576 with 1 Axes>"
      ]
     },
     "metadata": {
      "needs_background": "light"
     },
     "output_type": "display_data"
    }
   ],
   "source": [
    "plt.bar(df10.City,df10.av_rent)\n",
    "plt.xlabel('City')\n",
    "plt.ylabel('Average Rent')\n",
    "plt.show"
   ]
  },
  {
   "cell_type": "code",
   "execution_count": 76,
   "id": "0444c5e7",
   "metadata": {},
   "outputs": [
    {
     "data": {
      "text/plain": [
       "<function matplotlib.pyplot.show(close=None, block=None)>"
      ]
     },
     "execution_count": 76,
     "metadata": {},
     "output_type": "execute_result"
    },
    {
     "data": {
      "image/png": "[encoded data removed]",
      "text/plain": [
       "<Figure size 1008x576 with 1 Axes>"
      ]
     },
     "metadata": {},
     "output_type": "display_data"
    }
   ],
   "source": [
    "explode=[0.05,0.01,0,0.02,0.03,0.04]\n",
    "colors=['lime','purple','yellow','red','orange','pink']\n",
    "plt.pie(df10.av_rent,explode=explode,labels=df10.City,colors=colors,autopct='%1.2f%%')\n",
    "plt.title('Rent Distribution')\n",
    "plt.show"
   ]
  },
  {
   "cell_type": "code",
   "execution_count": null,
   "id": "80590283",
   "metadata": {},
   "outputs": [],
   "source": []
  }
 ],
 "metadata": {
  "kernelspec": {
   "display_name": "Python 3",
   "language": "python",
   "name": "python3"
  },
  "language_info": {
   "codemirror_mode": {
    "name": "ipython",
    "version": 3
   },
   "file_extension": ".py",
   "mimetype": "text/x-python",
   "name": "python",
   "nbconvert_exporter": "python",
   "pygments_lexer": "ipython3",
   "version": "3.8.8"
  }
 },
 "nbformat": 4,
 "nbformat_minor": 5
}
